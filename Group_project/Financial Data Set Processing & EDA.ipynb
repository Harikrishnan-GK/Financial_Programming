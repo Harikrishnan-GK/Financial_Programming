{
 "cells": [
  {
   "cell_type": "markdown",
   "metadata": {
    "id": "C3kC_6kFoLoN"
   },
   "source": [
    "# Python Group Assignment\n",
    "\n",
    "- Fajar Tri ANGGORO\n",
    "- Harikrishnan GOPALAKRISHNAN\n",
    "- Tristan HELLE"
   ]
  },
  {
   "cell_type": "markdown",
   "metadata": {
    "id": "bB1sRdcjCFKQ"
   },
   "source": [
    "## General Workflow\n",
    "### 1) Identifying Business Problem\n",
    "### 2) Data Cleaning and Preparation\n",
    "### 3) Exploratory Data Analysis (EDA)"
   ]
  },
  {
   "cell_type": "markdown",
   "metadata": {
    "id": "TW0sxoVDCUrH"
   },
   "source": [
    "### 1) Identifying Business Problem\n",
    "\n",
    "In this case, we're asked to create a base table. This base table could then be used to create a Machine Learning Model and analysed to gain insight.\n",
    "\n",
    "We will gather the available data and combine them into a single table, the granularity of this table is a client who is an account owner. Once the base table ready, we will also do some Exploratory Data Analysis on the table. A Machine learning model will not be developed since the scope of the work only covers data preparation and analysis."
   ]
  },
  {
   "cell_type": "code",
   "execution_count": 2,
   "metadata": {
    "id": "qO7M1D0uoG6P"
   },
   "outputs": [],
   "source": [
    "# Import Packages Required\n",
    "\n",
    "import pandas as pd"
   ]
  },
  {
   "cell_type": "markdown",
   "metadata": {
    "id": "YbUaQMRXDuic"
   },
   "source": [
    "### 2) Data Cleaning and Preparation\n",
    "\n",
    "In this step, we're going to create a base table which contains information from different tables. The granularity of this table is a client who is an account owner, and there will be 2 target variables "
   ]
  },
  {
   "cell_type": "code",
   "execution_count": 3,
   "metadata": {
    "colab": {
     "base_uri": "https://localhost:8080/",
     "height": 450
    },
    "id": "EYvpQwj2pNqI",
    "outputId": "c3b0d530-ad15-4764-a0c4-3fb61fca7942"
   },
   "outputs": [],
   "source": [
    "# Import banking data\n",
    "# Note: This data was extracted on 1999\n",
    "\n",
    "# Each record describes characteristics of a client\n",
    "client = pd.read_csv('../data/raw/data_berka/client.asc', sep=';')\n",
    "\n",
    "# Each record describes static characteristics of an account\n",
    "account = pd.read_csv('../data/raw/data_berka/account.asc', sep=';')\n",
    "\n",
    "# Each record describes a credit card issued to an account\n",
    "card = pd.read_csv('../data/raw/data_berka/card.asc', sep=';')\n",
    "\n",
    "# Each record describes demographic characteristics of a district\n",
    "district = pd.read_csv('../data/raw/data_berka/district.asc', sep=';')\n",
    "\n",
    "# Each record relates together a client with an account\n",
    "# i.e. this relation describes the rights of clients to operate accounts\n",
    "disp = pd.read_csv('../data/raw/data_berka/disp.asc', sep=';')\n",
    "\n",
    "# Each record describes characteristics of a payment order (debits only)\n",
    "order = pd.read_csv('../data/raw/data_berka/order.asc', sep=';')\n",
    "\n",
    "# Each record describes one transaction on an account\n",
    "trans = pd.read_csv('../data/raw/data_berka/trans.asc', sep=';', low_memory=False)\n",
    "\n",
    "\n",
    "# Each record describes a loan granted for a given account\n",
    "loan = pd.read_csv('../data/raw/data_berka/loan.asc', sep=';')"
   ]
  },
  {
   "cell_type": "markdown",
   "metadata": {
    "id": "2b5HDTTJewrr"
   },
   "source": [
    "### Account table\n",
    "\n",
    "We will start with the account table to filter some information"
   ]
  },
  {
   "cell_type": "code",
   "execution_count": 4,
   "metadata": {
    "colab": {
     "base_uri": "https://localhost:8080/",
     "height": 399
    },
    "id": "WCjHxII5eEgk",
    "outputId": "7862d3e5-7648-4237-87a7-50b9a60937bd"
   },
   "outputs": [
    {
     "name": "stdout",
     "output_type": "stream",
     "text": [
      "<class 'pandas.core.frame.DataFrame'>\n",
      "RangeIndex: 4500 entries, 0 to 4499\n",
      "Data columns (total 4 columns):\n",
      " #   Column       Non-Null Count  Dtype \n",
      "---  ------       --------------  ----- \n",
      " 0   account_id   4500 non-null   int64 \n",
      " 1   district_id  4500 non-null   int64 \n",
      " 2   frequency    4500 non-null   object\n",
      " 3   date         4500 non-null   int64 \n",
      "dtypes: int64(3), object(1)\n",
      "memory usage: 140.8+ KB\n"
     ]
    },
    {
     "data": {
      "text/html": [
       "<div>\n",
       "<style scoped>\n",
       "    .dataframe tbody tr th:only-of-type {\n",
       "        vertical-align: middle;\n",
       "    }\n",
       "\n",
       "    .dataframe tbody tr th {\n",
       "        vertical-align: top;\n",
       "    }\n",
       "\n",
       "    .dataframe thead th {\n",
       "        text-align: right;\n",
       "    }\n",
       "</style>\n",
       "<table border=\"1\" class=\"dataframe\">\n",
       "  <thead>\n",
       "    <tr style=\"text-align: right;\">\n",
       "      <th></th>\n",
       "      <th>account_id</th>\n",
       "      <th>district_id</th>\n",
       "      <th>frequency</th>\n",
       "      <th>date</th>\n",
       "    </tr>\n",
       "  </thead>\n",
       "  <tbody>\n",
       "    <tr>\n",
       "      <th>0</th>\n",
       "      <td>576</td>\n",
       "      <td>55</td>\n",
       "      <td>POPLATEK MESICNE</td>\n",
       "      <td>930101</td>\n",
       "    </tr>\n",
       "    <tr>\n",
       "      <th>1</th>\n",
       "      <td>3818</td>\n",
       "      <td>74</td>\n",
       "      <td>POPLATEK MESICNE</td>\n",
       "      <td>930101</td>\n",
       "    </tr>\n",
       "    <tr>\n",
       "      <th>2</th>\n",
       "      <td>704</td>\n",
       "      <td>55</td>\n",
       "      <td>POPLATEK MESICNE</td>\n",
       "      <td>930101</td>\n",
       "    </tr>\n",
       "    <tr>\n",
       "      <th>3</th>\n",
       "      <td>2378</td>\n",
       "      <td>16</td>\n",
       "      <td>POPLATEK MESICNE</td>\n",
       "      <td>930101</td>\n",
       "    </tr>\n",
       "    <tr>\n",
       "      <th>4</th>\n",
       "      <td>2632</td>\n",
       "      <td>24</td>\n",
       "      <td>POPLATEK MESICNE</td>\n",
       "      <td>930102</td>\n",
       "    </tr>\n",
       "  </tbody>\n",
       "</table>\n",
       "</div>"
      ],
      "text/plain": [
       "   account_id  district_id         frequency    date\n",
       "0         576           55  POPLATEK MESICNE  930101\n",
       "1        3818           74  POPLATEK MESICNE  930101\n",
       "2         704           55  POPLATEK MESICNE  930101\n",
       "3        2378           16  POPLATEK MESICNE  930101\n",
       "4        2632           24  POPLATEK MESICNE  930102"
      ]
     },
     "execution_count": 4,
     "metadata": {},
     "output_type": "execute_result"
    }
   ],
   "source": [
    "# Take a look at the data\n",
    "account.info()\n",
    "\n",
    "account.head()"
   ]
  },
  {
   "cell_type": "markdown",
   "metadata": {
    "id": "IADLOzCxfGHL"
   },
   "source": [
    "The independent Variable timeframe has been set to 1996, so we will only consider accounts that has been created BEFORE 1996 (accounts that were created in 1996 does not need to be included because it wont have sufficient data in 1996)"
   ]
  },
  {
   "cell_type": "code",
   "execution_count": 5,
   "metadata": {
    "colab": {
     "base_uri": "https://localhost:8080/"
    },
    "id": "LyIIgp9reHTg",
    "outputId": "fbb293cc-1812-4b4b-e4f9-a84bca94cb92"
   },
   "outputs": [
    {
     "data": {
      "text/plain": [
       "array([1993, 1994, 1995])"
      ]
     },
     "execution_count": 5,
     "metadata": {},
     "output_type": "execute_result"
    }
   ],
   "source": [
    "# Create column year\n",
    "account['year'] = account['date'].astype(str).str[:2].astype(int) + 1900\n",
    "base = account[account['year'] < 1996].copy(deep=True)\n",
    "\n",
    "# Check if all the year is < 1996\n",
    "base['year'].unique()"
   ]
  },
  {
   "cell_type": "code",
   "execution_count": 6,
   "metadata": {
    "colab": {
     "base_uri": "https://localhost:8080/",
     "height": 204
    },
    "id": "aVmeSr96fmbo",
    "outputId": "fafc40c7-cae6-4a5f-b67c-13ac078a7de0"
   },
   "outputs": [
    {
     "data": {
      "text/html": [
       "<div>\n",
       "<style scoped>\n",
       "    .dataframe tbody tr th:only-of-type {\n",
       "        vertical-align: middle;\n",
       "    }\n",
       "\n",
       "    .dataframe tbody tr th {\n",
       "        vertical-align: top;\n",
       "    }\n",
       "\n",
       "    .dataframe thead th {\n",
       "        text-align: right;\n",
       "    }\n",
       "</style>\n",
       "<table border=\"1\" class=\"dataframe\">\n",
       "  <thead>\n",
       "    <tr style=\"text-align: right;\">\n",
       "      <th></th>\n",
       "      <th>account_id</th>\n",
       "      <th>district_id</th>\n",
       "      <th>frequency</th>\n",
       "      <th>date</th>\n",
       "      <th>year</th>\n",
       "      <th>lor</th>\n",
       "    </tr>\n",
       "  </thead>\n",
       "  <tbody>\n",
       "    <tr>\n",
       "      <th>0</th>\n",
       "      <td>576</td>\n",
       "      <td>55</td>\n",
       "      <td>POPLATEK MESICNE</td>\n",
       "      <td>930101</td>\n",
       "      <td>1993</td>\n",
       "      <td>3</td>\n",
       "    </tr>\n",
       "    <tr>\n",
       "      <th>1</th>\n",
       "      <td>3818</td>\n",
       "      <td>74</td>\n",
       "      <td>POPLATEK MESICNE</td>\n",
       "      <td>930101</td>\n",
       "      <td>1993</td>\n",
       "      <td>3</td>\n",
       "    </tr>\n",
       "    <tr>\n",
       "      <th>2</th>\n",
       "      <td>704</td>\n",
       "      <td>55</td>\n",
       "      <td>POPLATEK MESICNE</td>\n",
       "      <td>930101</td>\n",
       "      <td>1993</td>\n",
       "      <td>3</td>\n",
       "    </tr>\n",
       "    <tr>\n",
       "      <th>3</th>\n",
       "      <td>2378</td>\n",
       "      <td>16</td>\n",
       "      <td>POPLATEK MESICNE</td>\n",
       "      <td>930101</td>\n",
       "      <td>1993</td>\n",
       "      <td>3</td>\n",
       "    </tr>\n",
       "    <tr>\n",
       "      <th>4</th>\n",
       "      <td>2632</td>\n",
       "      <td>24</td>\n",
       "      <td>POPLATEK MESICNE</td>\n",
       "      <td>930102</td>\n",
       "      <td>1993</td>\n",
       "      <td>3</td>\n",
       "    </tr>\n",
       "  </tbody>\n",
       "</table>\n",
       "</div>"
      ],
      "text/plain": [
       "   account_id  district_id         frequency    date  year  lor\n",
       "0         576           55  POPLATEK MESICNE  930101  1993    3\n",
       "1        3818           74  POPLATEK MESICNE  930101  1993    3\n",
       "2         704           55  POPLATEK MESICNE  930101  1993    3\n",
       "3        2378           16  POPLATEK MESICNE  930101  1993    3\n",
       "4        2632           24  POPLATEK MESICNE  930102  1993    3"
      ]
     },
     "execution_count": 6,
     "metadata": {},
     "output_type": "execute_result"
    }
   ],
   "source": [
    "# Add length of relationship in year\n",
    "\n",
    "base['lor'] = 1996 - base['year']\n",
    "base.head()"
   ]
  },
  {
   "cell_type": "markdown",
   "metadata": {
    "id": "I7dMRW6dghHg"
   },
   "source": [
    "### Disp Table & Client Table \n",
    "\n",
    "Merge current table with the client table, but only consider the account owners. But first, we need to merge with the disp table"
   ]
  },
  {
   "cell_type": "code",
   "execution_count": 7,
   "metadata": {
    "colab": {
     "base_uri": "https://localhost:8080/",
     "height": 399
    },
    "id": "-y7HYunZgS97",
    "outputId": "e2a5ea67-bbdd-4bfe-8caf-d83c5aea7a52"
   },
   "outputs": [
    {
     "name": "stdout",
     "output_type": "stream",
     "text": [
      "<class 'pandas.core.frame.DataFrame'>\n",
      "RangeIndex: 5369 entries, 0 to 5368\n",
      "Data columns (total 4 columns):\n",
      " #   Column      Non-Null Count  Dtype \n",
      "---  ------      --------------  ----- \n",
      " 0   disp_id     5369 non-null   int64 \n",
      " 1   client_id   5369 non-null   int64 \n",
      " 2   account_id  5369 non-null   int64 \n",
      " 3   type        5369 non-null   object\n",
      "dtypes: int64(3), object(1)\n",
      "memory usage: 167.9+ KB\n"
     ]
    },
    {
     "data": {
      "text/html": [
       "<div>\n",
       "<style scoped>\n",
       "    .dataframe tbody tr th:only-of-type {\n",
       "        vertical-align: middle;\n",
       "    }\n",
       "\n",
       "    .dataframe tbody tr th {\n",
       "        vertical-align: top;\n",
       "    }\n",
       "\n",
       "    .dataframe thead th {\n",
       "        text-align: right;\n",
       "    }\n",
       "</style>\n",
       "<table border=\"1\" class=\"dataframe\">\n",
       "  <thead>\n",
       "    <tr style=\"text-align: right;\">\n",
       "      <th></th>\n",
       "      <th>disp_id</th>\n",
       "      <th>client_id</th>\n",
       "      <th>account_id</th>\n",
       "      <th>type</th>\n",
       "    </tr>\n",
       "  </thead>\n",
       "  <tbody>\n",
       "    <tr>\n",
       "      <th>0</th>\n",
       "      <td>1</td>\n",
       "      <td>1</td>\n",
       "      <td>1</td>\n",
       "      <td>OWNER</td>\n",
       "    </tr>\n",
       "    <tr>\n",
       "      <th>1</th>\n",
       "      <td>2</td>\n",
       "      <td>2</td>\n",
       "      <td>2</td>\n",
       "      <td>OWNER</td>\n",
       "    </tr>\n",
       "    <tr>\n",
       "      <th>2</th>\n",
       "      <td>3</td>\n",
       "      <td>3</td>\n",
       "      <td>2</td>\n",
       "      <td>DISPONENT</td>\n",
       "    </tr>\n",
       "    <tr>\n",
       "      <th>3</th>\n",
       "      <td>4</td>\n",
       "      <td>4</td>\n",
       "      <td>3</td>\n",
       "      <td>OWNER</td>\n",
       "    </tr>\n",
       "    <tr>\n",
       "      <th>4</th>\n",
       "      <td>5</td>\n",
       "      <td>5</td>\n",
       "      <td>3</td>\n",
       "      <td>DISPONENT</td>\n",
       "    </tr>\n",
       "  </tbody>\n",
       "</table>\n",
       "</div>"
      ],
      "text/plain": [
       "   disp_id  client_id  account_id       type\n",
       "0        1          1           1      OWNER\n",
       "1        2          2           2      OWNER\n",
       "2        3          3           2  DISPONENT\n",
       "3        4          4           3      OWNER\n",
       "4        5          5           3  DISPONENT"
      ]
     },
     "execution_count": 7,
     "metadata": {},
     "output_type": "execute_result"
    }
   ],
   "source": [
    "# Take a look at the data\n",
    "disp.info()\n",
    "\n",
    "disp.head()"
   ]
  },
  {
   "cell_type": "code",
   "execution_count": 8,
   "metadata": {
    "colab": {
     "base_uri": "https://localhost:8080/",
     "height": 381
    },
    "id": "9X56pGqliAQo",
    "outputId": "338574f4-8ea7-4fa7-d385-535d4b8b6e75"
   },
   "outputs": [
    {
     "name": "stdout",
     "output_type": "stream",
     "text": [
      "<class 'pandas.core.frame.DataFrame'>\n",
      "RangeIndex: 5369 entries, 0 to 5368\n",
      "Data columns (total 3 columns):\n",
      " #   Column        Non-Null Count  Dtype\n",
      "---  ------        --------------  -----\n",
      " 0   client_id     5369 non-null   int64\n",
      " 1   birth_number  5369 non-null   int64\n",
      " 2   district_id   5369 non-null   int64\n",
      "dtypes: int64(3)\n",
      "memory usage: 126.0 KB\n"
     ]
    },
    {
     "data": {
      "text/html": [
       "<div>\n",
       "<style scoped>\n",
       "    .dataframe tbody tr th:only-of-type {\n",
       "        vertical-align: middle;\n",
       "    }\n",
       "\n",
       "    .dataframe tbody tr th {\n",
       "        vertical-align: top;\n",
       "    }\n",
       "\n",
       "    .dataframe thead th {\n",
       "        text-align: right;\n",
       "    }\n",
       "</style>\n",
       "<table border=\"1\" class=\"dataframe\">\n",
       "  <thead>\n",
       "    <tr style=\"text-align: right;\">\n",
       "      <th></th>\n",
       "      <th>client_id</th>\n",
       "      <th>birth_number</th>\n",
       "      <th>district_id</th>\n",
       "    </tr>\n",
       "  </thead>\n",
       "  <tbody>\n",
       "    <tr>\n",
       "      <th>0</th>\n",
       "      <td>1</td>\n",
       "      <td>706213</td>\n",
       "      <td>18</td>\n",
       "    </tr>\n",
       "    <tr>\n",
       "      <th>1</th>\n",
       "      <td>2</td>\n",
       "      <td>450204</td>\n",
       "      <td>1</td>\n",
       "    </tr>\n",
       "    <tr>\n",
       "      <th>2</th>\n",
       "      <td>3</td>\n",
       "      <td>406009</td>\n",
       "      <td>1</td>\n",
       "    </tr>\n",
       "    <tr>\n",
       "      <th>3</th>\n",
       "      <td>4</td>\n",
       "      <td>561201</td>\n",
       "      <td>5</td>\n",
       "    </tr>\n",
       "    <tr>\n",
       "      <th>4</th>\n",
       "      <td>5</td>\n",
       "      <td>605703</td>\n",
       "      <td>5</td>\n",
       "    </tr>\n",
       "  </tbody>\n",
       "</table>\n",
       "</div>"
      ],
      "text/plain": [
       "   client_id  birth_number  district_id\n",
       "0          1        706213           18\n",
       "1          2        450204            1\n",
       "2          3        406009            1\n",
       "3          4        561201            5\n",
       "4          5        605703            5"
      ]
     },
     "execution_count": 8,
     "metadata": {},
     "output_type": "execute_result"
    }
   ],
   "source": [
    "# Take a look at the data\n",
    "client.info()\n",
    "\n",
    "client.head()"
   ]
  },
  {
   "cell_type": "code",
   "execution_count": 9,
   "metadata": {
    "colab": {
     "base_uri": "https://localhost:8080/",
     "height": 204
    },
    "id": "AN9ikDnQg7z1",
    "outputId": "abcaec53-ae6e-4691-c61d-4b9417e66f1e"
   },
   "outputs": [
    {
     "data": {
      "text/html": [
       "<div>\n",
       "<style scoped>\n",
       "    .dataframe tbody tr th:only-of-type {\n",
       "        vertical-align: middle;\n",
       "    }\n",
       "\n",
       "    .dataframe tbody tr th {\n",
       "        vertical-align: top;\n",
       "    }\n",
       "\n",
       "    .dataframe thead th {\n",
       "        text-align: right;\n",
       "    }\n",
       "</style>\n",
       "<table border=\"1\" class=\"dataframe\">\n",
       "  <thead>\n",
       "    <tr style=\"text-align: right;\">\n",
       "      <th></th>\n",
       "      <th>account_id</th>\n",
       "      <th>bank_district_id</th>\n",
       "      <th>frequency</th>\n",
       "      <th>date</th>\n",
       "      <th>year</th>\n",
       "      <th>lor</th>\n",
       "      <th>disp_id</th>\n",
       "      <th>client_id</th>\n",
       "      <th>type</th>\n",
       "      <th>birth_number</th>\n",
       "      <th>client_district_id</th>\n",
       "    </tr>\n",
       "  </thead>\n",
       "  <tbody>\n",
       "    <tr>\n",
       "      <th>0</th>\n",
       "      <td>576</td>\n",
       "      <td>55</td>\n",
       "      <td>POPLATEK MESICNE</td>\n",
       "      <td>930101</td>\n",
       "      <td>1993</td>\n",
       "      <td>3</td>\n",
       "      <td>692</td>\n",
       "      <td>692</td>\n",
       "      <td>OWNER</td>\n",
       "      <td>365111</td>\n",
       "      <td>74</td>\n",
       "    </tr>\n",
       "    <tr>\n",
       "      <th>1</th>\n",
       "      <td>3818</td>\n",
       "      <td>74</td>\n",
       "      <td>POPLATEK MESICNE</td>\n",
       "      <td>930101</td>\n",
       "      <td>1993</td>\n",
       "      <td>3</td>\n",
       "      <td>4601</td>\n",
       "      <td>4601</td>\n",
       "      <td>OWNER</td>\n",
       "      <td>350402</td>\n",
       "      <td>1</td>\n",
       "    </tr>\n",
       "    <tr>\n",
       "      <th>2</th>\n",
       "      <td>704</td>\n",
       "      <td>55</td>\n",
       "      <td>POPLATEK MESICNE</td>\n",
       "      <td>930101</td>\n",
       "      <td>1993</td>\n",
       "      <td>3</td>\n",
       "      <td>844</td>\n",
       "      <td>844</td>\n",
       "      <td>OWNER</td>\n",
       "      <td>450114</td>\n",
       "      <td>22</td>\n",
       "    </tr>\n",
       "    <tr>\n",
       "      <th>3</th>\n",
       "      <td>2378</td>\n",
       "      <td>16</td>\n",
       "      <td>POPLATEK MESICNE</td>\n",
       "      <td>930101</td>\n",
       "      <td>1993</td>\n",
       "      <td>3</td>\n",
       "      <td>2873</td>\n",
       "      <td>2873</td>\n",
       "      <td>OWNER</td>\n",
       "      <td>755324</td>\n",
       "      <td>16</td>\n",
       "    </tr>\n",
       "    <tr>\n",
       "      <th>4</th>\n",
       "      <td>2632</td>\n",
       "      <td>24</td>\n",
       "      <td>POPLATEK MESICNE</td>\n",
       "      <td>930102</td>\n",
       "      <td>1993</td>\n",
       "      <td>3</td>\n",
       "      <td>3177</td>\n",
       "      <td>3177</td>\n",
       "      <td>OWNER</td>\n",
       "      <td>380812</td>\n",
       "      <td>24</td>\n",
       "    </tr>\n",
       "  </tbody>\n",
       "</table>\n",
       "</div>"
      ],
      "text/plain": [
       "   account_id  bank_district_id         frequency    date  year  lor  disp_id  \\\n",
       "0         576                55  POPLATEK MESICNE  930101  1993    3      692   \n",
       "1        3818                74  POPLATEK MESICNE  930101  1993    3     4601   \n",
       "2         704                55  POPLATEK MESICNE  930101  1993    3      844   \n",
       "3        2378                16  POPLATEK MESICNE  930101  1993    3     2873   \n",
       "4        2632                24  POPLATEK MESICNE  930102  1993    3     3177   \n",
       "\n",
       "   client_id   type  birth_number  client_district_id  \n",
       "0        692  OWNER        365111                  74  \n",
       "1       4601  OWNER        350402                   1  \n",
       "2        844  OWNER        450114                  22  \n",
       "3       2873  OWNER        755324                  16  \n",
       "4       3177  OWNER        380812                  24  "
      ]
     },
     "execution_count": 9,
     "metadata": {},
     "output_type": "execute_result"
    }
   ],
   "source": [
    "# First, Merge with disp table (only considers account owners)\n",
    "base = pd.merge(base, disp[disp['type'] == 'OWNER'], how='left', on='account_id')\n",
    "\n",
    "# Next, Merge with client table using previously merged base table\n",
    "base = pd.merge(base, client, how='left', on='client_id')\n",
    "\n",
    "# Rename columns\n",
    "base = base.rename(columns={'district_id_x':'bank_district_id',\n",
    "                        'district_id_y':'client_district_id'})\n",
    "base.head()"
   ]
  },
  {
   "cell_type": "code",
   "execution_count": 10,
   "metadata": {
    "colab": {
     "base_uri": "https://localhost:8080/"
    },
    "id": "w74VTNZikLUc",
    "outputId": "31b02b10-296d-4b09-e90f-18a51e6cc949"
   },
   "outputs": [
    {
     "data": {
      "text/plain": [
       "array(['OWNER'], dtype=object)"
      ]
     },
     "execution_count": 10,
     "metadata": {},
     "output_type": "execute_result"
    }
   ],
   "source": [
    "# Check that our table only contains owner type clients\n",
    "base['type'].unique()"
   ]
  },
  {
   "cell_type": "markdown",
   "metadata": {
    "id": "YwF6i2hYjnZP"
   },
   "source": [
    "**Add information about client birthday and gender**"
   ]
  },
  {
   "cell_type": "code",
   "execution_count": 11,
   "metadata": {
    "colab": {
     "base_uri": "https://localhost:8080/",
     "height": 308
    },
    "id": "gTChYORdiuQl",
    "outputId": "028c6511-87e7-4f77-8a2a-8dcd5de57c88"
   },
   "outputs": [
    {
     "data": {
      "text/html": [
       "<div>\n",
       "<style scoped>\n",
       "    .dataframe tbody tr th:only-of-type {\n",
       "        vertical-align: middle;\n",
       "    }\n",
       "\n",
       "    .dataframe tbody tr th {\n",
       "        vertical-align: top;\n",
       "    }\n",
       "\n",
       "    .dataframe thead th {\n",
       "        text-align: right;\n",
       "    }\n",
       "</style>\n",
       "<table border=\"1\" class=\"dataframe\">\n",
       "  <thead>\n",
       "    <tr style=\"text-align: right;\">\n",
       "      <th></th>\n",
       "      <th>account_id</th>\n",
       "      <th>bank_district_id</th>\n",
       "      <th>frequency</th>\n",
       "      <th>date</th>\n",
       "      <th>year</th>\n",
       "      <th>lor</th>\n",
       "      <th>disp_id</th>\n",
       "      <th>client_id</th>\n",
       "      <th>type</th>\n",
       "      <th>birth_number</th>\n",
       "      <th>client_district_id</th>\n",
       "      <th>birth_year</th>\n",
       "      <th>birth_day</th>\n",
       "      <th>birth_month</th>\n",
       "      <th>gender</th>\n",
       "    </tr>\n",
       "  </thead>\n",
       "  <tbody>\n",
       "    <tr>\n",
       "      <th>0</th>\n",
       "      <td>576</td>\n",
       "      <td>55</td>\n",
       "      <td>POPLATEK MESICNE</td>\n",
       "      <td>930101</td>\n",
       "      <td>1993</td>\n",
       "      <td>3</td>\n",
       "      <td>692</td>\n",
       "      <td>692</td>\n",
       "      <td>OWNER</td>\n",
       "      <td>365111</td>\n",
       "      <td>74</td>\n",
       "      <td>1936</td>\n",
       "      <td>11</td>\n",
       "      <td>1</td>\n",
       "      <td>F</td>\n",
       "    </tr>\n",
       "    <tr>\n",
       "      <th>1</th>\n",
       "      <td>3818</td>\n",
       "      <td>74</td>\n",
       "      <td>POPLATEK MESICNE</td>\n",
       "      <td>930101</td>\n",
       "      <td>1993</td>\n",
       "      <td>3</td>\n",
       "      <td>4601</td>\n",
       "      <td>4601</td>\n",
       "      <td>OWNER</td>\n",
       "      <td>350402</td>\n",
       "      <td>1</td>\n",
       "      <td>1935</td>\n",
       "      <td>2</td>\n",
       "      <td>4</td>\n",
       "      <td>M</td>\n",
       "    </tr>\n",
       "    <tr>\n",
       "      <th>2</th>\n",
       "      <td>704</td>\n",
       "      <td>55</td>\n",
       "      <td>POPLATEK MESICNE</td>\n",
       "      <td>930101</td>\n",
       "      <td>1993</td>\n",
       "      <td>3</td>\n",
       "      <td>844</td>\n",
       "      <td>844</td>\n",
       "      <td>OWNER</td>\n",
       "      <td>450114</td>\n",
       "      <td>22</td>\n",
       "      <td>1945</td>\n",
       "      <td>14</td>\n",
       "      <td>1</td>\n",
       "      <td>M</td>\n",
       "    </tr>\n",
       "    <tr>\n",
       "      <th>3</th>\n",
       "      <td>2378</td>\n",
       "      <td>16</td>\n",
       "      <td>POPLATEK MESICNE</td>\n",
       "      <td>930101</td>\n",
       "      <td>1993</td>\n",
       "      <td>3</td>\n",
       "      <td>2873</td>\n",
       "      <td>2873</td>\n",
       "      <td>OWNER</td>\n",
       "      <td>755324</td>\n",
       "      <td>16</td>\n",
       "      <td>1975</td>\n",
       "      <td>24</td>\n",
       "      <td>3</td>\n",
       "      <td>F</td>\n",
       "    </tr>\n",
       "    <tr>\n",
       "      <th>4</th>\n",
       "      <td>2632</td>\n",
       "      <td>24</td>\n",
       "      <td>POPLATEK MESICNE</td>\n",
       "      <td>930102</td>\n",
       "      <td>1993</td>\n",
       "      <td>3</td>\n",
       "      <td>3177</td>\n",
       "      <td>3177</td>\n",
       "      <td>OWNER</td>\n",
       "      <td>380812</td>\n",
       "      <td>24</td>\n",
       "      <td>1938</td>\n",
       "      <td>12</td>\n",
       "      <td>8</td>\n",
       "      <td>M</td>\n",
       "    </tr>\n",
       "  </tbody>\n",
       "</table>\n",
       "</div>"
      ],
      "text/plain": [
       "   account_id  bank_district_id         frequency    date  year  lor  disp_id  \\\n",
       "0         576                55  POPLATEK MESICNE  930101  1993    3      692   \n",
       "1        3818                74  POPLATEK MESICNE  930101  1993    3     4601   \n",
       "2         704                55  POPLATEK MESICNE  930101  1993    3      844   \n",
       "3        2378                16  POPLATEK MESICNE  930101  1993    3     2873   \n",
       "4        2632                24  POPLATEK MESICNE  930102  1993    3     3177   \n",
       "\n",
       "   client_id   type  birth_number  client_district_id  birth_year  birth_day  \\\n",
       "0        692  OWNER        365111                  74        1936         11   \n",
       "1       4601  OWNER        350402                   1        1935          2   \n",
       "2        844  OWNER        450114                  22        1945         14   \n",
       "3       2873  OWNER        755324                  16        1975         24   \n",
       "4       3177  OWNER        380812                  24        1938         12   \n",
       "\n",
       "   birth_month gender  \n",
       "0            1      F  \n",
       "1            4      M  \n",
       "2            1      M  \n",
       "3            3      F  \n",
       "4            8      M  "
      ]
     },
     "execution_count": 11,
     "metadata": {},
     "output_type": "execute_result"
    }
   ],
   "source": [
    "# Transform the birth day into year\n",
    "base['birth_year'] = '19' + base['birth_number'].astype(str).str[:2]\n",
    "base['birth_year'] = base['birth_year'].astype(int)\n",
    "\n",
    "# Transform the birth day to day\n",
    "base['birth_day'] = base['birth_number'].astype(str).str[-2:].astype(int)\n",
    "\n",
    "# Extract the birth month\n",
    "base['birth_month'] = base['birth_number'].astype(str).str[2:4].astype(int)\n",
    "\n",
    "# Extract and correct the gender\n",
    "base['gender'] = 'M'\n",
    "base.loc[base['birth_month'] > 50, 'gender'] = 'F'\n",
    "\n",
    "# Correct the birth month\n",
    "base.loc[base['birth_month'] > 50, 'birth_month'] = base.loc[base['birth_month'] > 50, 'birth_month'] - 50\n",
    "base.head()"
   ]
  },
  {
   "cell_type": "markdown",
   "metadata": {
    "id": "gQsi9Xsjk4eq"
   },
   "source": [
    "**Add information about client age and age group**"
   ]
  },
  {
   "cell_type": "code",
   "execution_count": 12,
   "metadata": {
    "colab": {
     "base_uri": "https://localhost:8080/",
     "height": 308
    },
    "id": "T1SwBDaNkGgB",
    "outputId": "92badec4-2de8-4399-a2a3-47b2d82f99ae"
   },
   "outputs": [
    {
     "data": {
      "text/html": [
       "<div>\n",
       "<style scoped>\n",
       "    .dataframe tbody tr th:only-of-type {\n",
       "        vertical-align: middle;\n",
       "    }\n",
       "\n",
       "    .dataframe tbody tr th {\n",
       "        vertical-align: top;\n",
       "    }\n",
       "\n",
       "    .dataframe thead th {\n",
       "        text-align: right;\n",
       "    }\n",
       "</style>\n",
       "<table border=\"1\" class=\"dataframe\">\n",
       "  <thead>\n",
       "    <tr style=\"text-align: right;\">\n",
       "      <th></th>\n",
       "      <th>account_id</th>\n",
       "      <th>bank_district_id</th>\n",
       "      <th>frequency</th>\n",
       "      <th>date</th>\n",
       "      <th>year</th>\n",
       "      <th>lor</th>\n",
       "      <th>disp_id</th>\n",
       "      <th>client_id</th>\n",
       "      <th>type</th>\n",
       "      <th>birth_number</th>\n",
       "      <th>client_district_id</th>\n",
       "      <th>birth_year</th>\n",
       "      <th>birth_day</th>\n",
       "      <th>birth_month</th>\n",
       "      <th>gender</th>\n",
       "      <th>age</th>\n",
       "      <th>age_group</th>\n",
       "    </tr>\n",
       "  </thead>\n",
       "  <tbody>\n",
       "    <tr>\n",
       "      <th>0</th>\n",
       "      <td>576</td>\n",
       "      <td>55</td>\n",
       "      <td>POPLATEK MESICNE</td>\n",
       "      <td>930101</td>\n",
       "      <td>1993</td>\n",
       "      <td>3</td>\n",
       "      <td>692</td>\n",
       "      <td>692</td>\n",
       "      <td>OWNER</td>\n",
       "      <td>365111</td>\n",
       "      <td>74</td>\n",
       "      <td>1936</td>\n",
       "      <td>11</td>\n",
       "      <td>1</td>\n",
       "      <td>F</td>\n",
       "      <td>60</td>\n",
       "      <td>60</td>\n",
       "    </tr>\n",
       "    <tr>\n",
       "      <th>1</th>\n",
       "      <td>3818</td>\n",
       "      <td>74</td>\n",
       "      <td>POPLATEK MESICNE</td>\n",
       "      <td>930101</td>\n",
       "      <td>1993</td>\n",
       "      <td>3</td>\n",
       "      <td>4601</td>\n",
       "      <td>4601</td>\n",
       "      <td>OWNER</td>\n",
       "      <td>350402</td>\n",
       "      <td>1</td>\n",
       "      <td>1935</td>\n",
       "      <td>2</td>\n",
       "      <td>4</td>\n",
       "      <td>M</td>\n",
       "      <td>61</td>\n",
       "      <td>60</td>\n",
       "    </tr>\n",
       "    <tr>\n",
       "      <th>2</th>\n",
       "      <td>704</td>\n",
       "      <td>55</td>\n",
       "      <td>POPLATEK MESICNE</td>\n",
       "      <td>930101</td>\n",
       "      <td>1993</td>\n",
       "      <td>3</td>\n",
       "      <td>844</td>\n",
       "      <td>844</td>\n",
       "      <td>OWNER</td>\n",
       "      <td>450114</td>\n",
       "      <td>22</td>\n",
       "      <td>1945</td>\n",
       "      <td>14</td>\n",
       "      <td>1</td>\n",
       "      <td>M</td>\n",
       "      <td>51</td>\n",
       "      <td>50</td>\n",
       "    </tr>\n",
       "    <tr>\n",
       "      <th>3</th>\n",
       "      <td>2378</td>\n",
       "      <td>16</td>\n",
       "      <td>POPLATEK MESICNE</td>\n",
       "      <td>930101</td>\n",
       "      <td>1993</td>\n",
       "      <td>3</td>\n",
       "      <td>2873</td>\n",
       "      <td>2873</td>\n",
       "      <td>OWNER</td>\n",
       "      <td>755324</td>\n",
       "      <td>16</td>\n",
       "      <td>1975</td>\n",
       "      <td>24</td>\n",
       "      <td>3</td>\n",
       "      <td>F</td>\n",
       "      <td>21</td>\n",
       "      <td>20</td>\n",
       "    </tr>\n",
       "    <tr>\n",
       "      <th>4</th>\n",
       "      <td>2632</td>\n",
       "      <td>24</td>\n",
       "      <td>POPLATEK MESICNE</td>\n",
       "      <td>930102</td>\n",
       "      <td>1993</td>\n",
       "      <td>3</td>\n",
       "      <td>3177</td>\n",
       "      <td>3177</td>\n",
       "      <td>OWNER</td>\n",
       "      <td>380812</td>\n",
       "      <td>24</td>\n",
       "      <td>1938</td>\n",
       "      <td>12</td>\n",
       "      <td>8</td>\n",
       "      <td>M</td>\n",
       "      <td>58</td>\n",
       "      <td>50</td>\n",
       "    </tr>\n",
       "  </tbody>\n",
       "</table>\n",
       "</div>"
      ],
      "text/plain": [
       "   account_id  bank_district_id         frequency    date  year  lor  disp_id  \\\n",
       "0         576                55  POPLATEK MESICNE  930101  1993    3      692   \n",
       "1        3818                74  POPLATEK MESICNE  930101  1993    3     4601   \n",
       "2         704                55  POPLATEK MESICNE  930101  1993    3      844   \n",
       "3        2378                16  POPLATEK MESICNE  930101  1993    3     2873   \n",
       "4        2632                24  POPLATEK MESICNE  930102  1993    3     3177   \n",
       "\n",
       "   client_id   type  birth_number  client_district_id  birth_year  birth_day  \\\n",
       "0        692  OWNER        365111                  74        1936         11   \n",
       "1       4601  OWNER        350402                   1        1935          2   \n",
       "2        844  OWNER        450114                  22        1945         14   \n",
       "3       2873  OWNER        755324                  16        1975         24   \n",
       "4       3177  OWNER        380812                  24        1938         12   \n",
       "\n",
       "   birth_month gender  age  age_group  \n",
       "0            1      F   60         60  \n",
       "1            4      M   61         60  \n",
       "2            1      M   51         50  \n",
       "3            3      F   21         20  \n",
       "4            8      M   58         50  "
      ]
     },
     "execution_count": 12,
     "metadata": {},
     "output_type": "execute_result"
    }
   ],
   "source": [
    "# Age\n",
    "base['age'] = 1996 - base['birth_year']\n",
    "\n",
    "# Age group\n",
    "base['age_group'] = base['age'] // 10 * 10\n",
    "base.head()"
   ]
  },
  {
   "cell_type": "markdown",
   "metadata": {
    "id": "M7mwY1vHljtz"
   },
   "source": [
    "### Transaction Table\n",
    "\n",
    "We will add information from transaction table\n"
   ]
  },
  {
   "cell_type": "code",
   "execution_count": 13,
   "metadata": {
    "colab": {
     "base_uri": "https://localhost:8080/",
     "height": 506
    },
    "id": "BlOxz1vklInf",
    "outputId": "28a04392-42e8-45d8-90b4-10214494190b"
   },
   "outputs": [
    {
     "name": "stdout",
     "output_type": "stream",
     "text": [
      "<class 'pandas.core.frame.DataFrame'>\n",
      "RangeIndex: 1056320 entries, 0 to 1056319\n",
      "Data columns (total 10 columns):\n",
      " #   Column      Non-Null Count    Dtype  \n",
      "---  ------      --------------    -----  \n",
      " 0   trans_id    1056320 non-null  int64  \n",
      " 1   account_id  1056320 non-null  int64  \n",
      " 2   date        1056320 non-null  int64  \n",
      " 3   type        1056320 non-null  object \n",
      " 4   operation   873206 non-null   object \n",
      " 5   amount      1056320 non-null  float64\n",
      " 6   balance     1056320 non-null  float64\n",
      " 7   k_symbol    574439 non-null   object \n",
      " 8   bank        273508 non-null   object \n",
      " 9   account     295389 non-null   float64\n",
      "dtypes: float64(3), int64(3), object(4)\n",
      "memory usage: 80.6+ MB\n"
     ]
    },
    {
     "data": {
      "text/html": [
       "<div>\n",
       "<style scoped>\n",
       "    .dataframe tbody tr th:only-of-type {\n",
       "        vertical-align: middle;\n",
       "    }\n",
       "\n",
       "    .dataframe tbody tr th {\n",
       "        vertical-align: top;\n",
       "    }\n",
       "\n",
       "    .dataframe thead th {\n",
       "        text-align: right;\n",
       "    }\n",
       "</style>\n",
       "<table border=\"1\" class=\"dataframe\">\n",
       "  <thead>\n",
       "    <tr style=\"text-align: right;\">\n",
       "      <th></th>\n",
       "      <th>trans_id</th>\n",
       "      <th>account_id</th>\n",
       "      <th>date</th>\n",
       "      <th>type</th>\n",
       "      <th>operation</th>\n",
       "      <th>amount</th>\n",
       "      <th>balance</th>\n",
       "      <th>k_symbol</th>\n",
       "      <th>bank</th>\n",
       "      <th>account</th>\n",
       "    </tr>\n",
       "  </thead>\n",
       "  <tbody>\n",
       "    <tr>\n",
       "      <th>0</th>\n",
       "      <td>695247</td>\n",
       "      <td>2378</td>\n",
       "      <td>930101</td>\n",
       "      <td>PRIJEM</td>\n",
       "      <td>VKLAD</td>\n",
       "      <td>700.0</td>\n",
       "      <td>700.0</td>\n",
       "      <td>NaN</td>\n",
       "      <td>NaN</td>\n",
       "      <td>NaN</td>\n",
       "    </tr>\n",
       "    <tr>\n",
       "      <th>1</th>\n",
       "      <td>171812</td>\n",
       "      <td>576</td>\n",
       "      <td>930101</td>\n",
       "      <td>PRIJEM</td>\n",
       "      <td>VKLAD</td>\n",
       "      <td>900.0</td>\n",
       "      <td>900.0</td>\n",
       "      <td>NaN</td>\n",
       "      <td>NaN</td>\n",
       "      <td>NaN</td>\n",
       "    </tr>\n",
       "    <tr>\n",
       "      <th>2</th>\n",
       "      <td>207264</td>\n",
       "      <td>704</td>\n",
       "      <td>930101</td>\n",
       "      <td>PRIJEM</td>\n",
       "      <td>VKLAD</td>\n",
       "      <td>1000.0</td>\n",
       "      <td>1000.0</td>\n",
       "      <td>NaN</td>\n",
       "      <td>NaN</td>\n",
       "      <td>NaN</td>\n",
       "    </tr>\n",
       "    <tr>\n",
       "      <th>3</th>\n",
       "      <td>1117247</td>\n",
       "      <td>3818</td>\n",
       "      <td>930101</td>\n",
       "      <td>PRIJEM</td>\n",
       "      <td>VKLAD</td>\n",
       "      <td>600.0</td>\n",
       "      <td>600.0</td>\n",
       "      <td>NaN</td>\n",
       "      <td>NaN</td>\n",
       "      <td>NaN</td>\n",
       "    </tr>\n",
       "    <tr>\n",
       "      <th>4</th>\n",
       "      <td>579373</td>\n",
       "      <td>1972</td>\n",
       "      <td>930102</td>\n",
       "      <td>PRIJEM</td>\n",
       "      <td>VKLAD</td>\n",
       "      <td>400.0</td>\n",
       "      <td>400.0</td>\n",
       "      <td>NaN</td>\n",
       "      <td>NaN</td>\n",
       "      <td>NaN</td>\n",
       "    </tr>\n",
       "  </tbody>\n",
       "</table>\n",
       "</div>"
      ],
      "text/plain": [
       "   trans_id  account_id    date    type operation  amount  balance k_symbol  \\\n",
       "0    695247        2378  930101  PRIJEM     VKLAD   700.0    700.0      NaN   \n",
       "1    171812         576  930101  PRIJEM     VKLAD   900.0    900.0      NaN   \n",
       "2    207264         704  930101  PRIJEM     VKLAD  1000.0   1000.0      NaN   \n",
       "3   1117247        3818  930101  PRIJEM     VKLAD   600.0    600.0      NaN   \n",
       "4    579373        1972  930102  PRIJEM     VKLAD   400.0    400.0      NaN   \n",
       "\n",
       "  bank  account  \n",
       "0  NaN      NaN  \n",
       "1  NaN      NaN  \n",
       "2  NaN      NaN  \n",
       "3  NaN      NaN  \n",
       "4  NaN      NaN  "
      ]
     },
     "execution_count": 13,
     "metadata": {},
     "output_type": "execute_result"
    }
   ],
   "source": [
    "# Take a look at the data\n",
    "trans.info()\n",
    "\n",
    "trans.head()"
   ]
  },
  {
   "cell_type": "code",
   "execution_count": 14,
   "metadata": {
    "colab": {
     "base_uri": "https://localhost:8080/",
     "height": 204
    },
    "id": "zaqP7c1dpa0_",
    "outputId": "e74fb885-0ef3-4e31-c127-f9bd5e5578df"
   },
   "outputs": [
    {
     "data": {
      "text/html": [
       "<div>\n",
       "<style scoped>\n",
       "    .dataframe tbody tr th:only-of-type {\n",
       "        vertical-align: middle;\n",
       "    }\n",
       "\n",
       "    .dataframe tbody tr th {\n",
       "        vertical-align: top;\n",
       "    }\n",
       "\n",
       "    .dataframe thead th {\n",
       "        text-align: right;\n",
       "    }\n",
       "</style>\n",
       "<table border=\"1\" class=\"dataframe\">\n",
       "  <thead>\n",
       "    <tr style=\"text-align: right;\">\n",
       "      <th></th>\n",
       "      <th>trans_id</th>\n",
       "      <th>account_id</th>\n",
       "      <th>date</th>\n",
       "      <th>type</th>\n",
       "      <th>operation</th>\n",
       "      <th>amount</th>\n",
       "      <th>balance</th>\n",
       "      <th>k_symbol</th>\n",
       "      <th>bank</th>\n",
       "      <th>account</th>\n",
       "    </tr>\n",
       "  </thead>\n",
       "  <tbody>\n",
       "    <tr>\n",
       "      <th>252855</th>\n",
       "      <td>732811</td>\n",
       "      <td>2504</td>\n",
       "      <td>960101</td>\n",
       "      <td>VYDAJ</td>\n",
       "      <td>VYBER KARTOU</td>\n",
       "      <td>900.0</td>\n",
       "      <td>38124.4</td>\n",
       "      <td>NaN</td>\n",
       "      <td>NaN</td>\n",
       "      <td>0.0</td>\n",
       "    </tr>\n",
       "    <tr>\n",
       "      <th>252856</th>\n",
       "      <td>800209</td>\n",
       "      <td>2729</td>\n",
       "      <td>960101</td>\n",
       "      <td>VYDAJ</td>\n",
       "      <td>VYBER</td>\n",
       "      <td>1920.0</td>\n",
       "      <td>34202.7</td>\n",
       "      <td>NaN</td>\n",
       "      <td>NaN</td>\n",
       "      <td>NaN</td>\n",
       "    </tr>\n",
       "    <tr>\n",
       "      <th>252857</th>\n",
       "      <td>803553</td>\n",
       "      <td>2738</td>\n",
       "      <td>960101</td>\n",
       "      <td>VYDAJ</td>\n",
       "      <td>VYBER</td>\n",
       "      <td>6500.0</td>\n",
       "      <td>25685.2</td>\n",
       "      <td>NaN</td>\n",
       "      <td>NaN</td>\n",
       "      <td>NaN</td>\n",
       "    </tr>\n",
       "    <tr>\n",
       "      <th>252858</th>\n",
       "      <td>1042686</td>\n",
       "      <td>3566</td>\n",
       "      <td>960101</td>\n",
       "      <td>VYDAJ</td>\n",
       "      <td>VYBER</td>\n",
       "      <td>1000.0</td>\n",
       "      <td>25919.7</td>\n",
       "      <td>NaN</td>\n",
       "      <td>NaN</td>\n",
       "      <td>NaN</td>\n",
       "    </tr>\n",
       "    <tr>\n",
       "      <th>252859</th>\n",
       "      <td>1042689</td>\n",
       "      <td>3566</td>\n",
       "      <td>960101</td>\n",
       "      <td>VYDAJ</td>\n",
       "      <td>VYBER</td>\n",
       "      <td>500.0</td>\n",
       "      <td>25419.7</td>\n",
       "      <td>NaN</td>\n",
       "      <td>NaN</td>\n",
       "      <td>NaN</td>\n",
       "    </tr>\n",
       "  </tbody>\n",
       "</table>\n",
       "</div>"
      ],
      "text/plain": [
       "        trans_id  account_id    date   type     operation  amount  balance  \\\n",
       "252855    732811        2504  960101  VYDAJ  VYBER KARTOU   900.0  38124.4   \n",
       "252856    800209        2729  960101  VYDAJ         VYBER  1920.0  34202.7   \n",
       "252857    803553        2738  960101  VYDAJ         VYBER  6500.0  25685.2   \n",
       "252858   1042686        3566  960101  VYDAJ         VYBER  1000.0  25919.7   \n",
       "252859   1042689        3566  960101  VYDAJ         VYBER   500.0  25419.7   \n",
       "\n",
       "       k_symbol bank  account  \n",
       "252855      NaN  NaN      0.0  \n",
       "252856      NaN  NaN      NaN  \n",
       "252857      NaN  NaN      NaN  \n",
       "252858      NaN  NaN      NaN  \n",
       "252859      NaN  NaN      NaN  "
      ]
     },
     "execution_count": 14,
     "metadata": {},
     "output_type": "execute_result"
    }
   ],
   "source": [
    "# Select on transactions during Independent variable period 1996\n",
    "trans96 = trans[trans['date'].astype(str).str[:2].isin(['96'])]\n",
    "\n",
    "trans96.head()"
   ]
  },
  {
   "cell_type": "markdown",
   "metadata": {
    "id": "Wkp9C2nQzNLJ"
   },
   "source": [
    "**Add information about account transactions (e.g. RFM)**\n",
    "\n",
    "Recency: determined by what is the most recent date for each credit and withdrawal transaction\n",
    "\n",
    "Frequency: determined by what is the frequency for each credit and withdrawal transaction\n",
    "\n",
    "Monetary: determined by what is the amount for each credit and withdrawal transaction"
   ]
  },
  {
   "cell_type": "code",
   "execution_count": 15,
   "metadata": {
    "colab": {
     "base_uri": "https://localhost:8080/",
     "height": 418
    },
    "id": "F_bbSfWUutVQ",
    "outputId": "fd329b5b-4741-4eb8-c10d-5b781f54fe90"
   },
   "outputs": [
    {
     "name": "stdout",
     "output_type": "stream",
     "text": [
      "<class 'pandas.core.frame.DataFrame'>\n",
      "RangeIndex: 3601 entries, 0 to 3600\n",
      "Data columns (total 5 columns):\n",
      " #   Column                   Non-Null Count  Dtype  \n",
      "---  ------                   --------------  -----  \n",
      " 0   account_id               3601 non-null   int64  \n",
      " 1   total_credit             3601 non-null   float64\n",
      " 2   average_credit           3601 non-null   float64\n",
      " 3   frequency_credit         3601 non-null   int64  \n",
      " 4   most_recent_credit_date  3601 non-null   int64  \n",
      "dtypes: float64(2), int64(3)\n",
      "memory usage: 140.8 KB\n"
     ]
    }
   ],
   "source": [
    "# Aggregate the Credit Data\n",
    "RFM_credit = trans96[trans96['type'].isin(['PRIJEM'])].groupby('account_id')[['amount', 'date']].agg(['sum', 'mean', 'count', 'max'])\n",
    "\n",
    "# Reset Index and drop 2 level columns\n",
    "RFM_credit = RFM_credit.reset_index()\n",
    "RFM_credit.columns = RFM_credit.columns.droplevel(0)\n",
    "\n",
    "# Rename columns\n",
    "RFM_credit.columns = ['account_id','total_credit','average_credit','frequency_credit','credit_max', 'date_sum','average_date','date_count','most_recent_credit_date']\n",
    "\n",
    "# Drop unused columns\n",
    "RFM_credit = RFM_credit.drop(['credit_max', 'date_sum', 'date_count', 'average_date'], axis = 1)\n",
    "\n",
    "# Format Output\n",
    "RFM_credit['average_credit'] = RFM_credit['average_credit'].round(2)\n",
    "\n",
    "RFM_credit.info()"
   ]
  },
  {
   "cell_type": "code",
   "execution_count": 17,
   "metadata": {
    "colab": {
     "base_uri": "https://localhost:8080/",
     "height": 418
    },
    "id": "tTZqcsYJ0UCq",
    "outputId": "40c9a9c7-e880-4aac-82e2-9656dc015806"
   },
   "outputs": [
    {
     "data": {
      "text/html": [
       "<div>\n",
       "<style scoped>\n",
       "    .dataframe tbody tr th:only-of-type {\n",
       "        vertical-align: middle;\n",
       "    }\n",
       "\n",
       "    .dataframe tbody tr th {\n",
       "        vertical-align: top;\n",
       "    }\n",
       "\n",
       "    .dataframe thead th {\n",
       "        text-align: right;\n",
       "    }\n",
       "</style>\n",
       "<table border=\"1\" class=\"dataframe\">\n",
       "  <thead>\n",
       "    <tr style=\"text-align: right;\">\n",
       "      <th></th>\n",
       "      <th>account_id</th>\n",
       "      <th>total_withdrawal</th>\n",
       "      <th>average_withdrawal</th>\n",
       "      <th>frequency_withdrawal</th>\n",
       "      <th>most_recent_withdrawal_date</th>\n",
       "    </tr>\n",
       "  </thead>\n",
       "  <tbody>\n",
       "    <tr>\n",
       "      <th>0</th>\n",
       "      <td>1</td>\n",
       "      <td>55579.2</td>\n",
       "      <td>1235.09</td>\n",
       "      <td>45</td>\n",
       "      <td>961231</td>\n",
       "    </tr>\n",
       "    <tr>\n",
       "      <th>1</th>\n",
       "      <td>2</td>\n",
       "      <td>274574.2</td>\n",
       "      <td>4903.11</td>\n",
       "      <td>56</td>\n",
       "      <td>961231</td>\n",
       "    </tr>\n",
       "    <tr>\n",
       "      <th>2</th>\n",
       "      <td>4</td>\n",
       "      <td>31977.6</td>\n",
       "      <td>1453.53</td>\n",
       "      <td>22</td>\n",
       "      <td>961231</td>\n",
       "    </tr>\n",
       "    <tr>\n",
       "      <th>3</th>\n",
       "      <td>6</td>\n",
       "      <td>81803.2</td>\n",
       "      <td>2097.52</td>\n",
       "      <td>39</td>\n",
       "      <td>961231</td>\n",
       "    </tr>\n",
       "    <tr>\n",
       "      <th>4</th>\n",
       "      <td>7</td>\n",
       "      <td>6600.0</td>\n",
       "      <td>6600.00</td>\n",
       "      <td>1</td>\n",
       "      <td>961224</td>\n",
       "    </tr>\n",
       "    <tr>\n",
       "      <th>...</th>\n",
       "      <td>...</td>\n",
       "      <td>...</td>\n",
       "      <td>...</td>\n",
       "      <td>...</td>\n",
       "      <td>...</td>\n",
       "    </tr>\n",
       "    <tr>\n",
       "      <th>3294</th>\n",
       "      <td>11333</td>\n",
       "      <td>407902.4</td>\n",
       "      <td>9064.50</td>\n",
       "      <td>45</td>\n",
       "      <td>961231</td>\n",
       "    </tr>\n",
       "    <tr>\n",
       "      <th>3295</th>\n",
       "      <td>11349</td>\n",
       "      <td>542689.0</td>\n",
       "      <td>8614.11</td>\n",
       "      <td>63</td>\n",
       "      <td>961231</td>\n",
       "    </tr>\n",
       "    <tr>\n",
       "      <th>3296</th>\n",
       "      <td>11359</td>\n",
       "      <td>351816.7</td>\n",
       "      <td>4955.16</td>\n",
       "      <td>71</td>\n",
       "      <td>961231</td>\n",
       "    </tr>\n",
       "    <tr>\n",
       "      <th>3297</th>\n",
       "      <td>11362</td>\n",
       "      <td>222356.0</td>\n",
       "      <td>2850.72</td>\n",
       "      <td>78</td>\n",
       "      <td>961231</td>\n",
       "    </tr>\n",
       "    <tr>\n",
       "      <th>3298</th>\n",
       "      <td>11382</td>\n",
       "      <td>434341.0</td>\n",
       "      <td>9442.20</td>\n",
       "      <td>46</td>\n",
       "      <td>961231</td>\n",
       "    </tr>\n",
       "  </tbody>\n",
       "</table>\n",
       "<p>3299 rows × 5 columns</p>\n",
       "</div>"
      ],
      "text/plain": [
       "      account_id  total_withdrawal  average_withdrawal  frequency_withdrawal  \\\n",
       "0              1           55579.2             1235.09                    45   \n",
       "1              2          274574.2             4903.11                    56   \n",
       "2              4           31977.6             1453.53                    22   \n",
       "3              6           81803.2             2097.52                    39   \n",
       "4              7            6600.0             6600.00                     1   \n",
       "...          ...               ...                 ...                   ...   \n",
       "3294       11333          407902.4             9064.50                    45   \n",
       "3295       11349          542689.0             8614.11                    63   \n",
       "3296       11359          351816.7             4955.16                    71   \n",
       "3297       11362          222356.0             2850.72                    78   \n",
       "3298       11382          434341.0             9442.20                    46   \n",
       "\n",
       "      most_recent_withdrawal_date  \n",
       "0                          961231  \n",
       "1                          961231  \n",
       "2                          961231  \n",
       "3                          961231  \n",
       "4                          961224  \n",
       "...                           ...  \n",
       "3294                       961231  \n",
       "3295                       961231  \n",
       "3296                       961231  \n",
       "3297                       961231  \n",
       "3298                       961231  \n",
       "\n",
       "[3299 rows x 5 columns]"
      ]
     },
     "execution_count": 17,
     "metadata": {},
     "output_type": "execute_result"
    }
   ],
   "source": [
    "# Aggregate the withdrawal Data\n",
    "RFM_withdrawal = trans96[trans96['type'].isin(['VYDAJ', 'VYBER'])].groupby('account_id')[['amount', 'date']].agg(['sum','mean','count', 'max'])\n",
    "\n",
    "# Reset Index and drop 2 level columns\n",
    "RFM_withdrawal = RFM_withdrawal.reset_index()\n",
    "RFM_withdrawal.columns = RFM_withdrawal.columns.droplevel(0)\n",
    "\n",
    "# Rename columns\n",
    "RFM_withdrawal.columns = ['account_id','total_withdrawal', 'average_withdrawal', 'frequency_withdrawal','withdrawal_max', 'date_sum', 'average_date', 'date_count','most_recent_withdrawal_date']\n",
    "\n",
    "# Drop unused columns\n",
    "RFM_withdrawal = RFM_withdrawal.drop(['withdrawal_max', 'date_sum', 'date_count', 'average_date'], axis = 1)\n",
    "\n",
    "# Format Output\n",
    "RFM_withdrawal['average_withdrawal'] = RFM_withdrawal['average_withdrawal'].round(2)\n",
    "RFM_withdrawal"
   ]
  },
  {
   "cell_type": "code",
   "execution_count": 18,
   "metadata": {
    "colab": {
     "base_uri": "https://localhost:8080/",
     "height": 308
    },
    "id": "3cOrzicd0zqA",
    "outputId": "d1bbec65-3aae-4dc7-a99b-0ce5362d8ac3"
   },
   "outputs": [
    {
     "data": {
      "text/html": [
       "<div>\n",
       "<style scoped>\n",
       "    .dataframe tbody tr th:only-of-type {\n",
       "        vertical-align: middle;\n",
       "    }\n",
       "\n",
       "    .dataframe tbody tr th {\n",
       "        vertical-align: top;\n",
       "    }\n",
       "\n",
       "    .dataframe thead th {\n",
       "        text-align: right;\n",
       "    }\n",
       "</style>\n",
       "<table border=\"1\" class=\"dataframe\">\n",
       "  <thead>\n",
       "    <tr style=\"text-align: right;\">\n",
       "      <th></th>\n",
       "      <th>account_id</th>\n",
       "      <th>bank_district_id</th>\n",
       "      <th>frequency</th>\n",
       "      <th>date</th>\n",
       "      <th>year</th>\n",
       "      <th>lor</th>\n",
       "      <th>disp_id</th>\n",
       "      <th>client_id</th>\n",
       "      <th>type</th>\n",
       "      <th>birth_number</th>\n",
       "      <th>...</th>\n",
       "      <th>age</th>\n",
       "      <th>age_group</th>\n",
       "      <th>total_credit</th>\n",
       "      <th>average_credit</th>\n",
       "      <th>frequency_credit</th>\n",
       "      <th>most_recent_credit_date</th>\n",
       "      <th>total_withdrawal</th>\n",
       "      <th>average_withdrawal</th>\n",
       "      <th>frequency_withdrawal</th>\n",
       "      <th>most_recent_withdrawal_date</th>\n",
       "    </tr>\n",
       "  </thead>\n",
       "  <tbody>\n",
       "    <tr>\n",
       "      <th>0</th>\n",
       "      <td>576</td>\n",
       "      <td>55</td>\n",
       "      <td>POPLATEK MESICNE</td>\n",
       "      <td>930101</td>\n",
       "      <td>1993</td>\n",
       "      <td>3</td>\n",
       "      <td>692</td>\n",
       "      <td>692</td>\n",
       "      <td>OWNER</td>\n",
       "      <td>365111</td>\n",
       "      <td>...</td>\n",
       "      <td>60</td>\n",
       "      <td>60</td>\n",
       "      <td>76097.3</td>\n",
       "      <td>3170.72</td>\n",
       "      <td>24.0</td>\n",
       "      <td>961231.0</td>\n",
       "      <td>70419.2</td>\n",
       "      <td>1853.14</td>\n",
       "      <td>38</td>\n",
       "      <td>961231</td>\n",
       "    </tr>\n",
       "    <tr>\n",
       "      <th>1</th>\n",
       "      <td>3818</td>\n",
       "      <td>74</td>\n",
       "      <td>POPLATEK MESICNE</td>\n",
       "      <td>930101</td>\n",
       "      <td>1993</td>\n",
       "      <td>3</td>\n",
       "      <td>4601</td>\n",
       "      <td>4601</td>\n",
       "      <td>OWNER</td>\n",
       "      <td>350402</td>\n",
       "      <td>...</td>\n",
       "      <td>61</td>\n",
       "      <td>60</td>\n",
       "      <td>234806.4</td>\n",
       "      <td>9392.26</td>\n",
       "      <td>25.0</td>\n",
       "      <td>961231.0</td>\n",
       "      <td>223535.2</td>\n",
       "      <td>3062.13</td>\n",
       "      <td>73</td>\n",
       "      <td>961231</td>\n",
       "    </tr>\n",
       "    <tr>\n",
       "      <th>2</th>\n",
       "      <td>704</td>\n",
       "      <td>55</td>\n",
       "      <td>POPLATEK MESICNE</td>\n",
       "      <td>930101</td>\n",
       "      <td>1993</td>\n",
       "      <td>3</td>\n",
       "      <td>844</td>\n",
       "      <td>844</td>\n",
       "      <td>OWNER</td>\n",
       "      <td>450114</td>\n",
       "      <td>...</td>\n",
       "      <td>51</td>\n",
       "      <td>50</td>\n",
       "      <td>228514.9</td>\n",
       "      <td>9521.45</td>\n",
       "      <td>24.0</td>\n",
       "      <td>961231.0</td>\n",
       "      <td>218531.2</td>\n",
       "      <td>3642.19</td>\n",
       "      <td>60</td>\n",
       "      <td>961231</td>\n",
       "    </tr>\n",
       "    <tr>\n",
       "      <th>3</th>\n",
       "      <td>2378</td>\n",
       "      <td>16</td>\n",
       "      <td>POPLATEK MESICNE</td>\n",
       "      <td>930101</td>\n",
       "      <td>1993</td>\n",
       "      <td>3</td>\n",
       "      <td>2873</td>\n",
       "      <td>2873</td>\n",
       "      <td>OWNER</td>\n",
       "      <td>755324</td>\n",
       "      <td>...</td>\n",
       "      <td>21</td>\n",
       "      <td>20</td>\n",
       "      <td>664545.4</td>\n",
       "      <td>19545.45</td>\n",
       "      <td>34.0</td>\n",
       "      <td>961231.0</td>\n",
       "      <td>633310.2</td>\n",
       "      <td>12924.70</td>\n",
       "      <td>49</td>\n",
       "      <td>961231</td>\n",
       "    </tr>\n",
       "    <tr>\n",
       "      <th>4</th>\n",
       "      <td>2632</td>\n",
       "      <td>24</td>\n",
       "      <td>POPLATEK MESICNE</td>\n",
       "      <td>930102</td>\n",
       "      <td>1993</td>\n",
       "      <td>3</td>\n",
       "      <td>3177</td>\n",
       "      <td>3177</td>\n",
       "      <td>OWNER</td>\n",
       "      <td>380812</td>\n",
       "      <td>...</td>\n",
       "      <td>58</td>\n",
       "      <td>50</td>\n",
       "      <td>186658.9</td>\n",
       "      <td>7777.45</td>\n",
       "      <td>24.0</td>\n",
       "      <td>961231.0</td>\n",
       "      <td>191071.2</td>\n",
       "      <td>2582.04</td>\n",
       "      <td>74</td>\n",
       "      <td>961231</td>\n",
       "    </tr>\n",
       "  </tbody>\n",
       "</table>\n",
       "<p>5 rows × 25 columns</p>\n",
       "</div>"
      ],
      "text/plain": [
       "   account_id  bank_district_id         frequency    date  year  lor  disp_id  \\\n",
       "0         576                55  POPLATEK MESICNE  930101  1993    3      692   \n",
       "1        3818                74  POPLATEK MESICNE  930101  1993    3     4601   \n",
       "2         704                55  POPLATEK MESICNE  930101  1993    3      844   \n",
       "3        2378                16  POPLATEK MESICNE  930101  1993    3     2873   \n",
       "4        2632                24  POPLATEK MESICNE  930102  1993    3     3177   \n",
       "\n",
       "   client_id   type  birth_number  ...  age  age_group  total_credit  \\\n",
       "0        692  OWNER        365111  ...   60         60       76097.3   \n",
       "1       4601  OWNER        350402  ...   61         60      234806.4   \n",
       "2        844  OWNER        450114  ...   51         50      228514.9   \n",
       "3       2873  OWNER        755324  ...   21         20      664545.4   \n",
       "4       3177  OWNER        380812  ...   58         50      186658.9   \n",
       "\n",
       "   average_credit frequency_credit  most_recent_credit_date  total_withdrawal  \\\n",
       "0         3170.72             24.0                 961231.0           70419.2   \n",
       "1         9392.26             25.0                 961231.0          223535.2   \n",
       "2         9521.45             24.0                 961231.0          218531.2   \n",
       "3        19545.45             34.0                 961231.0          633310.2   \n",
       "4         7777.45             24.0                 961231.0          191071.2   \n",
       "\n",
       "   average_withdrawal  frequency_withdrawal  most_recent_withdrawal_date  \n",
       "0             1853.14                    38                       961231  \n",
       "1             3062.13                    73                       961231  \n",
       "2             3642.19                    60                       961231  \n",
       "3            12924.70                    49                       961231  \n",
       "4             2582.04                    74                       961231  \n",
       "\n",
       "[5 rows x 25 columns]"
      ]
     },
     "execution_count": 18,
     "metadata": {},
     "output_type": "execute_result"
    }
   ],
   "source": [
    "# Join with base table\n",
    "base = pd.merge(base, RFM_credit, how='left', on='account_id')\n",
    "base = pd.merge(base, RFM_withdrawal, how='left', on='account_id')\n",
    "base.head()"
   ]
  },
  {
   "cell_type": "code",
   "execution_count": 19,
   "metadata": {
    "colab": {
     "base_uri": "https://localhost:8080/",
     "height": 117
    },
    "id": "Uf3dx8qV3Tiz",
    "outputId": "53aa0a18-ca2a-4258-c656-27ae8a9cc788"
   },
   "outputs": [
    {
     "data": {
      "text/html": [
       "<div>\n",
       "<style scoped>\n",
       "    .dataframe tbody tr th:only-of-type {\n",
       "        vertical-align: middle;\n",
       "    }\n",
       "\n",
       "    .dataframe tbody tr th {\n",
       "        vertical-align: top;\n",
       "    }\n",
       "\n",
       "    .dataframe thead th {\n",
       "        text-align: right;\n",
       "    }\n",
       "</style>\n",
       "<table border=\"1\" class=\"dataframe\">\n",
       "  <thead>\n",
       "    <tr style=\"text-align: right;\">\n",
       "      <th></th>\n",
       "      <th>account_id</th>\n",
       "      <th>bank_district_id</th>\n",
       "      <th>frequency</th>\n",
       "      <th>date</th>\n",
       "      <th>year</th>\n",
       "      <th>lor</th>\n",
       "      <th>disp_id</th>\n",
       "      <th>client_id</th>\n",
       "      <th>type</th>\n",
       "      <th>birth_number</th>\n",
       "      <th>...</th>\n",
       "      <th>age</th>\n",
       "      <th>age_group</th>\n",
       "      <th>total_credit</th>\n",
       "      <th>average_credit</th>\n",
       "      <th>frequency_credit</th>\n",
       "      <th>most_recent_credit_date</th>\n",
       "      <th>total_withdrawal</th>\n",
       "      <th>average_withdrawal</th>\n",
       "      <th>frequency_withdrawal</th>\n",
       "      <th>most_recent_withdrawal_date</th>\n",
       "    </tr>\n",
       "  </thead>\n",
       "  <tbody>\n",
       "    <tr>\n",
       "      <th>1815</th>\n",
       "      <td>1720</td>\n",
       "      <td>35</td>\n",
       "      <td>POPLATEK MESICNE</td>\n",
       "      <td>950516</td>\n",
       "      <td>1995</td>\n",
       "      <td>1</td>\n",
       "      <td>2086</td>\n",
       "      <td>2086</td>\n",
       "      <td>OWNER</td>\n",
       "      <td>546029</td>\n",
       "      <td>...</td>\n",
       "      <td>42</td>\n",
       "      <td>40</td>\n",
       "      <td>NaN</td>\n",
       "      <td>NaN</td>\n",
       "      <td>NaN</td>\n",
       "      <td>NaN</td>\n",
       "      <td>8300.0</td>\n",
       "      <td>1037.5</td>\n",
       "      <td>8</td>\n",
       "      <td>960907</td>\n",
       "    </tr>\n",
       "  </tbody>\n",
       "</table>\n",
       "<p>1 rows × 25 columns</p>\n",
       "</div>"
      ],
      "text/plain": [
       "      account_id  bank_district_id         frequency    date  year  lor  \\\n",
       "1815        1720                35  POPLATEK MESICNE  950516  1995    1   \n",
       "\n",
       "      disp_id  client_id   type  birth_number  ...  age  age_group  \\\n",
       "1815     2086       2086  OWNER        546029  ...   42         40   \n",
       "\n",
       "      total_credit  average_credit frequency_credit  most_recent_credit_date  \\\n",
       "1815           NaN             NaN              NaN                      NaN   \n",
       "\n",
       "      total_withdrawal  average_withdrawal  frequency_withdrawal  \\\n",
       "1815            8300.0              1037.5                     8   \n",
       "\n",
       "      most_recent_withdrawal_date  \n",
       "1815                       960907  \n",
       "\n",
       "[1 rows x 25 columns]"
      ]
     },
     "execution_count": 19,
     "metadata": {},
     "output_type": "execute_result"
    }
   ],
   "source": [
    "# Check which data has NA values\n",
    "base[base.isna().any(axis = 1)]"
   ]
  },
  {
   "cell_type": "markdown",
   "metadata": {},
   "source": [
    "### District Table\n",
    "\n",
    "We will add information from District table"
   ]
  },
  {
   "cell_type": "code",
   "execution_count": 20,
   "metadata": {},
   "outputs": [
    {
     "name": "stdout",
     "output_type": "stream",
     "text": [
      "<class 'pandas.core.frame.DataFrame'>\n",
      "RangeIndex: 77 entries, 0 to 76\n",
      "Data columns (total 16 columns):\n",
      " #   Column  Non-Null Count  Dtype  \n",
      "---  ------  --------------  -----  \n",
      " 0   A1      77 non-null     int64  \n",
      " 1   A2      77 non-null     object \n",
      " 2   A3      77 non-null     object \n",
      " 3   A4      77 non-null     int64  \n",
      " 4   A5      77 non-null     int64  \n",
      " 5   A6      77 non-null     int64  \n",
      " 6   A7      77 non-null     int64  \n",
      " 7   A8      77 non-null     int64  \n",
      " 8   A9      77 non-null     int64  \n",
      " 9   A10     77 non-null     float64\n",
      " 10  A11     77 non-null     int64  \n",
      " 11  A12     77 non-null     object \n",
      " 12  A13     77 non-null     float64\n",
      " 13  A14     77 non-null     int64  \n",
      " 14  A15     77 non-null     object \n",
      " 15  A16     77 non-null     int64  \n",
      "dtypes: float64(2), int64(10), object(4)\n",
      "memory usage: 9.8+ KB\n"
     ]
    },
    {
     "data": {
      "text/html": [
       "<div>\n",
       "<style scoped>\n",
       "    .dataframe tbody tr th:only-of-type {\n",
       "        vertical-align: middle;\n",
       "    }\n",
       "\n",
       "    .dataframe tbody tr th {\n",
       "        vertical-align: top;\n",
       "    }\n",
       "\n",
       "    .dataframe thead th {\n",
       "        text-align: right;\n",
       "    }\n",
       "</style>\n",
       "<table border=\"1\" class=\"dataframe\">\n",
       "  <thead>\n",
       "    <tr style=\"text-align: right;\">\n",
       "      <th></th>\n",
       "      <th>A1</th>\n",
       "      <th>A2</th>\n",
       "      <th>A3</th>\n",
       "      <th>A4</th>\n",
       "      <th>A5</th>\n",
       "      <th>A6</th>\n",
       "      <th>A7</th>\n",
       "      <th>A8</th>\n",
       "      <th>A9</th>\n",
       "      <th>A10</th>\n",
       "      <th>A11</th>\n",
       "      <th>A12</th>\n",
       "      <th>A13</th>\n",
       "      <th>A14</th>\n",
       "      <th>A15</th>\n",
       "      <th>A16</th>\n",
       "    </tr>\n",
       "  </thead>\n",
       "  <tbody>\n",
       "    <tr>\n",
       "      <th>0</th>\n",
       "      <td>1</td>\n",
       "      <td>Hl.m. Praha</td>\n",
       "      <td>Prague</td>\n",
       "      <td>1204953</td>\n",
       "      <td>0</td>\n",
       "      <td>0</td>\n",
       "      <td>0</td>\n",
       "      <td>1</td>\n",
       "      <td>1</td>\n",
       "      <td>100.0</td>\n",
       "      <td>12541</td>\n",
       "      <td>0.29</td>\n",
       "      <td>0.43</td>\n",
       "      <td>167</td>\n",
       "      <td>85677</td>\n",
       "      <td>99107</td>\n",
       "    </tr>\n",
       "    <tr>\n",
       "      <th>1</th>\n",
       "      <td>2</td>\n",
       "      <td>Benesov</td>\n",
       "      <td>central Bohemia</td>\n",
       "      <td>88884</td>\n",
       "      <td>80</td>\n",
       "      <td>26</td>\n",
       "      <td>6</td>\n",
       "      <td>2</td>\n",
       "      <td>5</td>\n",
       "      <td>46.7</td>\n",
       "      <td>8507</td>\n",
       "      <td>1.67</td>\n",
       "      <td>1.85</td>\n",
       "      <td>132</td>\n",
       "      <td>2159</td>\n",
       "      <td>2674</td>\n",
       "    </tr>\n",
       "    <tr>\n",
       "      <th>2</th>\n",
       "      <td>3</td>\n",
       "      <td>Beroun</td>\n",
       "      <td>central Bohemia</td>\n",
       "      <td>75232</td>\n",
       "      <td>55</td>\n",
       "      <td>26</td>\n",
       "      <td>4</td>\n",
       "      <td>1</td>\n",
       "      <td>5</td>\n",
       "      <td>41.7</td>\n",
       "      <td>8980</td>\n",
       "      <td>1.95</td>\n",
       "      <td>2.21</td>\n",
       "      <td>111</td>\n",
       "      <td>2824</td>\n",
       "      <td>2813</td>\n",
       "    </tr>\n",
       "    <tr>\n",
       "      <th>3</th>\n",
       "      <td>4</td>\n",
       "      <td>Kladno</td>\n",
       "      <td>central Bohemia</td>\n",
       "      <td>149893</td>\n",
       "      <td>63</td>\n",
       "      <td>29</td>\n",
       "      <td>6</td>\n",
       "      <td>2</td>\n",
       "      <td>6</td>\n",
       "      <td>67.4</td>\n",
       "      <td>9753</td>\n",
       "      <td>4.64</td>\n",
       "      <td>5.05</td>\n",
       "      <td>109</td>\n",
       "      <td>5244</td>\n",
       "      <td>5892</td>\n",
       "    </tr>\n",
       "    <tr>\n",
       "      <th>4</th>\n",
       "      <td>5</td>\n",
       "      <td>Kolin</td>\n",
       "      <td>central Bohemia</td>\n",
       "      <td>95616</td>\n",
       "      <td>65</td>\n",
       "      <td>30</td>\n",
       "      <td>4</td>\n",
       "      <td>1</td>\n",
       "      <td>6</td>\n",
       "      <td>51.4</td>\n",
       "      <td>9307</td>\n",
       "      <td>3.85</td>\n",
       "      <td>4.43</td>\n",
       "      <td>118</td>\n",
       "      <td>2616</td>\n",
       "      <td>3040</td>\n",
       "    </tr>\n",
       "  </tbody>\n",
       "</table>\n",
       "</div>"
      ],
      "text/plain": [
       "   A1           A2               A3       A4  A5  A6  A7  A8  A9    A10  \\\n",
       "0   1  Hl.m. Praha           Prague  1204953   0   0   0   1   1  100.0   \n",
       "1   2      Benesov  central Bohemia    88884  80  26   6   2   5   46.7   \n",
       "2   3       Beroun  central Bohemia    75232  55  26   4   1   5   41.7   \n",
       "3   4       Kladno  central Bohemia   149893  63  29   6   2   6   67.4   \n",
       "4   5        Kolin  central Bohemia    95616  65  30   4   1   6   51.4   \n",
       "\n",
       "     A11   A12   A13  A14    A15    A16  \n",
       "0  12541  0.29  0.43  167  85677  99107  \n",
       "1   8507  1.67  1.85  132   2159   2674  \n",
       "2   8980  1.95  2.21  111   2824   2813  \n",
       "3   9753  4.64  5.05  109   5244   5892  \n",
       "4   9307  3.85  4.43  118   2616   3040  "
      ]
     },
     "execution_count": 20,
     "metadata": {},
     "output_type": "execute_result"
    }
   ],
   "source": [
    "# Take a look at the data\n",
    "district.info()\n",
    "\n",
    "district.head()"
   ]
  },
  {
   "cell_type": "code",
   "execution_count": 21,
   "metadata": {},
   "outputs": [
    {
     "data": {
      "text/html": [
       "<div>\n",
       "<style scoped>\n",
       "    .dataframe tbody tr th:only-of-type {\n",
       "        vertical-align: middle;\n",
       "    }\n",
       "\n",
       "    .dataframe tbody tr th {\n",
       "        vertical-align: top;\n",
       "    }\n",
       "\n",
       "    .dataframe thead th {\n",
       "        text-align: right;\n",
       "    }\n",
       "</style>\n",
       "<table border=\"1\" class=\"dataframe\">\n",
       "  <thead>\n",
       "    <tr style=\"text-align: right;\">\n",
       "      <th></th>\n",
       "      <th>account_id</th>\n",
       "      <th>bank_district_id</th>\n",
       "      <th>frequency</th>\n",
       "      <th>date</th>\n",
       "      <th>year</th>\n",
       "      <th>lor</th>\n",
       "      <th>disp_id</th>\n",
       "      <th>client_id</th>\n",
       "      <th>type</th>\n",
       "      <th>birth_number</th>\n",
       "      <th>...</th>\n",
       "      <th>average_credit</th>\n",
       "      <th>frequency_credit</th>\n",
       "      <th>most_recent_credit_date</th>\n",
       "      <th>total_withdrawal</th>\n",
       "      <th>average_withdrawal</th>\n",
       "      <th>frequency_withdrawal</th>\n",
       "      <th>most_recent_withdrawal_date</th>\n",
       "      <th>A1</th>\n",
       "      <th>A2</th>\n",
       "      <th>A3</th>\n",
       "    </tr>\n",
       "  </thead>\n",
       "  <tbody>\n",
       "    <tr>\n",
       "      <th>0</th>\n",
       "      <td>576</td>\n",
       "      <td>55</td>\n",
       "      <td>POPLATEK MESICNE</td>\n",
       "      <td>930101</td>\n",
       "      <td>1993</td>\n",
       "      <td>3</td>\n",
       "      <td>692</td>\n",
       "      <td>692</td>\n",
       "      <td>OWNER</td>\n",
       "      <td>365111</td>\n",
       "      <td>...</td>\n",
       "      <td>3170.72</td>\n",
       "      <td>24.0</td>\n",
       "      <td>961231.0</td>\n",
       "      <td>70419.2</td>\n",
       "      <td>1853.14</td>\n",
       "      <td>38</td>\n",
       "      <td>961231</td>\n",
       "      <td>74</td>\n",
       "      <td>Ostrava - mesto</td>\n",
       "      <td>north Moravia</td>\n",
       "    </tr>\n",
       "    <tr>\n",
       "      <th>1</th>\n",
       "      <td>3818</td>\n",
       "      <td>74</td>\n",
       "      <td>POPLATEK MESICNE</td>\n",
       "      <td>930101</td>\n",
       "      <td>1993</td>\n",
       "      <td>3</td>\n",
       "      <td>4601</td>\n",
       "      <td>4601</td>\n",
       "      <td>OWNER</td>\n",
       "      <td>350402</td>\n",
       "      <td>...</td>\n",
       "      <td>9392.26</td>\n",
       "      <td>25.0</td>\n",
       "      <td>961231.0</td>\n",
       "      <td>223535.2</td>\n",
       "      <td>3062.13</td>\n",
       "      <td>73</td>\n",
       "      <td>961231</td>\n",
       "      <td>1</td>\n",
       "      <td>Hl.m. Praha</td>\n",
       "      <td>Prague</td>\n",
       "    </tr>\n",
       "    <tr>\n",
       "      <th>2</th>\n",
       "      <td>704</td>\n",
       "      <td>55</td>\n",
       "      <td>POPLATEK MESICNE</td>\n",
       "      <td>930101</td>\n",
       "      <td>1993</td>\n",
       "      <td>3</td>\n",
       "      <td>844</td>\n",
       "      <td>844</td>\n",
       "      <td>OWNER</td>\n",
       "      <td>450114</td>\n",
       "      <td>...</td>\n",
       "      <td>9521.45</td>\n",
       "      <td>24.0</td>\n",
       "      <td>961231.0</td>\n",
       "      <td>218531.2</td>\n",
       "      <td>3642.19</td>\n",
       "      <td>60</td>\n",
       "      <td>961231</td>\n",
       "      <td>22</td>\n",
       "      <td>Domazlice</td>\n",
       "      <td>west Bohemia</td>\n",
       "    </tr>\n",
       "    <tr>\n",
       "      <th>3</th>\n",
       "      <td>2378</td>\n",
       "      <td>16</td>\n",
       "      <td>POPLATEK MESICNE</td>\n",
       "      <td>930101</td>\n",
       "      <td>1993</td>\n",
       "      <td>3</td>\n",
       "      <td>2873</td>\n",
       "      <td>2873</td>\n",
       "      <td>OWNER</td>\n",
       "      <td>755324</td>\n",
       "      <td>...</td>\n",
       "      <td>19545.45</td>\n",
       "      <td>34.0</td>\n",
       "      <td>961231.0</td>\n",
       "      <td>633310.2</td>\n",
       "      <td>12924.70</td>\n",
       "      <td>49</td>\n",
       "      <td>961231</td>\n",
       "      <td>16</td>\n",
       "      <td>Jindrichuv Hradec</td>\n",
       "      <td>south Bohemia</td>\n",
       "    </tr>\n",
       "    <tr>\n",
       "      <th>4</th>\n",
       "      <td>2632</td>\n",
       "      <td>24</td>\n",
       "      <td>POPLATEK MESICNE</td>\n",
       "      <td>930102</td>\n",
       "      <td>1993</td>\n",
       "      <td>3</td>\n",
       "      <td>3177</td>\n",
       "      <td>3177</td>\n",
       "      <td>OWNER</td>\n",
       "      <td>380812</td>\n",
       "      <td>...</td>\n",
       "      <td>7777.45</td>\n",
       "      <td>24.0</td>\n",
       "      <td>961231.0</td>\n",
       "      <td>191071.2</td>\n",
       "      <td>2582.04</td>\n",
       "      <td>74</td>\n",
       "      <td>961231</td>\n",
       "      <td>24</td>\n",
       "      <td>Karlovy Vary</td>\n",
       "      <td>west Bohemia</td>\n",
       "    </tr>\n",
       "  </tbody>\n",
       "</table>\n",
       "<p>5 rows × 28 columns</p>\n",
       "</div>"
      ],
      "text/plain": [
       "   account_id  bank_district_id         frequency    date  year  lor  disp_id  \\\n",
       "0         576                55  POPLATEK MESICNE  930101  1993    3      692   \n",
       "1        3818                74  POPLATEK MESICNE  930101  1993    3     4601   \n",
       "2         704                55  POPLATEK MESICNE  930101  1993    3      844   \n",
       "3        2378                16  POPLATEK MESICNE  930101  1993    3     2873   \n",
       "4        2632                24  POPLATEK MESICNE  930102  1993    3     3177   \n",
       "\n",
       "   client_id   type  birth_number  ...  average_credit  frequency_credit  \\\n",
       "0        692  OWNER        365111  ...         3170.72              24.0   \n",
       "1       4601  OWNER        350402  ...         9392.26              25.0   \n",
       "2        844  OWNER        450114  ...         9521.45              24.0   \n",
       "3       2873  OWNER        755324  ...        19545.45              34.0   \n",
       "4       3177  OWNER        380812  ...         7777.45              24.0   \n",
       "\n",
       "   most_recent_credit_date  total_withdrawal average_withdrawal  \\\n",
       "0                 961231.0           70419.2            1853.14   \n",
       "1                 961231.0          223535.2            3062.13   \n",
       "2                 961231.0          218531.2            3642.19   \n",
       "3                 961231.0          633310.2           12924.70   \n",
       "4                 961231.0          191071.2            2582.04   \n",
       "\n",
       "   frequency_withdrawal  most_recent_withdrawal_date  A1                 A2  \\\n",
       "0                    38                       961231  74    Ostrava - mesto   \n",
       "1                    73                       961231   1        Hl.m. Praha   \n",
       "2                    60                       961231  22          Domazlice   \n",
       "3                    49                       961231  16  Jindrichuv Hradec   \n",
       "4                    74                       961231  24       Karlovy Vary   \n",
       "\n",
       "              A3  \n",
       "0  north Moravia  \n",
       "1         Prague  \n",
       "2   west Bohemia  \n",
       "3  south Bohemia  \n",
       "4   west Bohemia  \n",
       "\n",
       "[5 rows x 28 columns]"
      ]
     },
     "execution_count": 21,
     "metadata": {},
     "output_type": "execute_result"
    }
   ],
   "source": [
    "# Drop Unused Columns\n",
    "district = district.drop(['A4', 'A5', 'A6', 'A7', 'A8', 'A9', 'A10', 'A11', 'A12', 'A13', 'A14', 'A15', 'A16'], axis = 1)\n",
    "\n",
    "# Merge them with our base Table\n",
    "base = pd.merge(base, district, how='left', left_on='client_district_id', right_on = 'A1')\n",
    "\n",
    "base.head()"
   ]
  },
  {
   "cell_type": "markdown",
   "metadata": {
    "id": "tpCypnyJ2EpZ"
   },
   "source": [
    "### Dependent / Target Variable\n",
    "\n",
    "We have 2 target variables:\n",
    "\n",
    "Target variable #1: Client had granted loan in the dependent variables time window (i.e. 1997), binary value (0 = did not have granted loan, 1 = had granted loan).\n",
    "\n",
    "Target variable #2: Client had credit card issued (for both account owner and \n",
    "disponent) in the dependent variables time window (i.e. 1997), binary value (0 = did not have credit card issued, 1 = had credit card issued).\n"
   ]
  },
  {
   "cell_type": "markdown",
   "metadata": {
    "id": "dyCZqGAw219S"
   },
   "source": [
    "### Loan Table\n",
    "\n",
    "add information from loan table to create target variable"
   ]
  },
  {
   "cell_type": "code",
   "execution_count": 22,
   "metadata": {
    "colab": {
     "base_uri": "https://localhost:8080/",
     "height": 452
    },
    "id": "diyVCA2ylYnO",
    "outputId": "2383dabb-e377-4e1a-88e7-6f8323f789c1"
   },
   "outputs": [
    {
     "name": "stdout",
     "output_type": "stream",
     "text": [
      "<class 'pandas.core.frame.DataFrame'>\n",
      "RangeIndex: 682 entries, 0 to 681\n",
      "Data columns (total 7 columns):\n",
      " #   Column      Non-Null Count  Dtype  \n",
      "---  ------      --------------  -----  \n",
      " 0   loan_id     682 non-null    int64  \n",
      " 1   account_id  682 non-null    int64  \n",
      " 2   date        682 non-null    int64  \n",
      " 3   amount      682 non-null    int64  \n",
      " 4   duration    682 non-null    int64  \n",
      " 5   payments    682 non-null    float64\n",
      " 6   status      682 non-null    object \n",
      "dtypes: float64(1), int64(5), object(1)\n",
      "memory usage: 37.4+ KB\n"
     ]
    },
    {
     "data": {
      "text/html": [
       "<div>\n",
       "<style scoped>\n",
       "    .dataframe tbody tr th:only-of-type {\n",
       "        vertical-align: middle;\n",
       "    }\n",
       "\n",
       "    .dataframe tbody tr th {\n",
       "        vertical-align: top;\n",
       "    }\n",
       "\n",
       "    .dataframe thead th {\n",
       "        text-align: right;\n",
       "    }\n",
       "</style>\n",
       "<table border=\"1\" class=\"dataframe\">\n",
       "  <thead>\n",
       "    <tr style=\"text-align: right;\">\n",
       "      <th></th>\n",
       "      <th>loan_id</th>\n",
       "      <th>account_id</th>\n",
       "      <th>date</th>\n",
       "      <th>amount</th>\n",
       "      <th>duration</th>\n",
       "      <th>payments</th>\n",
       "      <th>status</th>\n",
       "    </tr>\n",
       "  </thead>\n",
       "  <tbody>\n",
       "    <tr>\n",
       "      <th>0</th>\n",
       "      <td>5314</td>\n",
       "      <td>1787</td>\n",
       "      <td>930705</td>\n",
       "      <td>96396</td>\n",
       "      <td>12</td>\n",
       "      <td>8033.0</td>\n",
       "      <td>B</td>\n",
       "    </tr>\n",
       "    <tr>\n",
       "      <th>1</th>\n",
       "      <td>5316</td>\n",
       "      <td>1801</td>\n",
       "      <td>930711</td>\n",
       "      <td>165960</td>\n",
       "      <td>36</td>\n",
       "      <td>4610.0</td>\n",
       "      <td>A</td>\n",
       "    </tr>\n",
       "    <tr>\n",
       "      <th>2</th>\n",
       "      <td>6863</td>\n",
       "      <td>9188</td>\n",
       "      <td>930728</td>\n",
       "      <td>127080</td>\n",
       "      <td>60</td>\n",
       "      <td>2118.0</td>\n",
       "      <td>A</td>\n",
       "    </tr>\n",
       "    <tr>\n",
       "      <th>3</th>\n",
       "      <td>5325</td>\n",
       "      <td>1843</td>\n",
       "      <td>930803</td>\n",
       "      <td>105804</td>\n",
       "      <td>36</td>\n",
       "      <td>2939.0</td>\n",
       "      <td>A</td>\n",
       "    </tr>\n",
       "    <tr>\n",
       "      <th>4</th>\n",
       "      <td>7240</td>\n",
       "      <td>11013</td>\n",
       "      <td>930906</td>\n",
       "      <td>274740</td>\n",
       "      <td>60</td>\n",
       "      <td>4579.0</td>\n",
       "      <td>A</td>\n",
       "    </tr>\n",
       "  </tbody>\n",
       "</table>\n",
       "</div>"
      ],
      "text/plain": [
       "   loan_id  account_id    date  amount  duration  payments status\n",
       "0     5314        1787  930705   96396        12    8033.0      B\n",
       "1     5316        1801  930711  165960        36    4610.0      A\n",
       "2     6863        9188  930728  127080        60    2118.0      A\n",
       "3     5325        1843  930803  105804        36    2939.0      A\n",
       "4     7240       11013  930906  274740        60    4579.0      A"
      ]
     },
     "execution_count": 22,
     "metadata": {},
     "output_type": "execute_result"
    }
   ],
   "source": [
    "# Take a look at the data\n",
    "loan.info()\n",
    "\n",
    "loan.head()"
   ]
  },
  {
   "cell_type": "code",
   "execution_count": 23,
   "metadata": {
    "colab": {
     "base_uri": "https://localhost:8080/",
     "height": 310
    },
    "id": "IL2Zq8oQ3BPm",
    "outputId": "ab800854-9230-4108-adf6-ae98afc61b66"
   },
   "outputs": [
    {
     "name": "stderr",
     "output_type": "stream",
     "text": [
      "<ipython-input-23-8ebf7267b803>:3: SettingWithCopyWarning: \n",
      "A value is trying to be set on a copy of a slice from a DataFrame.\n",
      "Try using .loc[row_indexer,col_indexer] = value instead\n",
      "\n",
      "See the caveats in the documentation: https://pandas.pydata.org/pandas-docs/stable/user_guide/indexing.html#returning-a-view-versus-a-copy\n",
      "  loan97['had_granted_loan_in1997'] = 1\n"
     ]
    },
    {
     "data": {
      "text/html": [
       "<div>\n",
       "<style scoped>\n",
       "    .dataframe tbody tr th:only-of-type {\n",
       "        vertical-align: middle;\n",
       "    }\n",
       "\n",
       "    .dataframe tbody tr th {\n",
       "        vertical-align: top;\n",
       "    }\n",
       "\n",
       "    .dataframe thead th {\n",
       "        text-align: right;\n",
       "    }\n",
       "</style>\n",
       "<table border=\"1\" class=\"dataframe\">\n",
       "  <thead>\n",
       "    <tr style=\"text-align: right;\">\n",
       "      <th></th>\n",
       "      <th>loan_id</th>\n",
       "      <th>account_id</th>\n",
       "      <th>status</th>\n",
       "      <th>had_granted_loan_in1997</th>\n",
       "    </tr>\n",
       "  </thead>\n",
       "  <tbody>\n",
       "    <tr>\n",
       "      <th>328</th>\n",
       "      <td>5895</td>\n",
       "      <td>4473</td>\n",
       "      <td>C</td>\n",
       "      <td>1</td>\n",
       "    </tr>\n",
       "    <tr>\n",
       "      <th>329</th>\n",
       "      <td>7122</td>\n",
       "      <td>10365</td>\n",
       "      <td>D</td>\n",
       "      <td>1</td>\n",
       "    </tr>\n",
       "    <tr>\n",
       "      <th>330</th>\n",
       "      <td>6173</td>\n",
       "      <td>5724</td>\n",
       "      <td>C</td>\n",
       "      <td>1</td>\n",
       "    </tr>\n",
       "    <tr>\n",
       "      <th>331</th>\n",
       "      <td>6142</td>\n",
       "      <td>5591</td>\n",
       "      <td>C</td>\n",
       "      <td>1</td>\n",
       "    </tr>\n",
       "    <tr>\n",
       "      <th>332</th>\n",
       "      <td>5358</td>\n",
       "      <td>2018</td>\n",
       "      <td>A</td>\n",
       "      <td>1</td>\n",
       "    </tr>\n",
       "  </tbody>\n",
       "</table>\n",
       "</div>"
      ],
      "text/plain": [
       "     loan_id  account_id status  had_granted_loan_in1997\n",
       "328     5895        4473      C                        1\n",
       "329     7122       10365      D                        1\n",
       "330     6173        5724      C                        1\n",
       "331     6142        5591      C                        1\n",
       "332     5358        2018      A                        1"
      ]
     },
     "execution_count": 23,
     "metadata": {},
     "output_type": "execute_result"
    }
   ],
   "source": [
    "# Select on loan during dependent variable period 1997\n",
    "loan97 = loan[loan['date'].astype(str).str[:2].isin(['97'])]\n",
    "\n",
    "# Set base value of granted loan\n",
    "loan97['had_granted_loan_in1997'] = 1\n",
    "\n",
    "# Drop unused columns\n",
    "loan97 = loan97.drop([ 'date', 'amount', 'duration', 'payments'], axis = 1)\n",
    "\n",
    "loan97.head()"
   ]
  },
  {
   "cell_type": "code",
   "execution_count": 24,
   "metadata": {},
   "outputs": [
    {
     "data": {
      "text/plain": [
       "loan_id       196\n",
       "account_id    196\n",
       "dtype: int64"
      ]
     },
     "execution_count": 24,
     "metadata": {},
     "output_type": "execute_result"
    }
   ],
   "source": [
    "# Check if each loan corresponds to exactly one account\n",
    "test = loan[loan['date'].astype(str).str[:2].isin(['97'])]\n",
    "test[['loan_id','account_id']].nunique()"
   ]
  },
  {
   "cell_type": "code",
   "execution_count": 25,
   "metadata": {
    "colab": {
     "base_uri": "https://localhost:8080/"
    },
    "id": "QMAQSCjR7xzf",
    "outputId": "905e062e-bbe5-42c1-85ad-404c01369521"
   },
   "outputs": [
    {
     "name": "stdout",
     "output_type": "stream",
     "text": [
      "<class 'pandas.core.frame.DataFrame'>\n",
      "Int64Index: 2239 entries, 0 to 2238\n",
      "Data columns (total 31 columns):\n",
      " #   Column                       Non-Null Count  Dtype  \n",
      "---  ------                       --------------  -----  \n",
      " 0   account_id                   2239 non-null   int64  \n",
      " 1   bank_district_id             2239 non-null   int64  \n",
      " 2   frequency                    2239 non-null   object \n",
      " 3   date                         2239 non-null   int64  \n",
      " 4   year                         2239 non-null   int32  \n",
      " 5   lor                          2239 non-null   int32  \n",
      " 6   disp_id                      2239 non-null   int64  \n",
      " 7   client_id                    2239 non-null   int64  \n",
      " 8   type                         2239 non-null   object \n",
      " 9   birth_number                 2239 non-null   int64  \n",
      " 10  client_district_id           2239 non-null   int64  \n",
      " 11  birth_year                   2239 non-null   int32  \n",
      " 12  birth_day                    2239 non-null   int32  \n",
      " 13  birth_month                  2239 non-null   int32  \n",
      " 14  gender                       2239 non-null   object \n",
      " 15  age                          2239 non-null   int32  \n",
      " 16  age_group                    2239 non-null   int32  \n",
      " 17  total_credit                 2238 non-null   float64\n",
      " 18  average_credit               2238 non-null   float64\n",
      " 19  frequency_credit             2238 non-null   float64\n",
      " 20  most_recent_credit_date      2238 non-null   float64\n",
      " 21  total_withdrawal             2239 non-null   float64\n",
      " 22  average_withdrawal           2239 non-null   float64\n",
      " 23  frequency_withdrawal         2239 non-null   int64  \n",
      " 24  most_recent_withdrawal_date  2239 non-null   int64  \n",
      " 25  A1                           2239 non-null   int64  \n",
      " 26  A2                           2239 non-null   object \n",
      " 27  A3                           2239 non-null   object \n",
      " 28  loan_id                      31 non-null     float64\n",
      " 29  status                       31 non-null     object \n",
      " 30  had_granted_loan_in1997      31 non-null     float64\n",
      "dtypes: float64(8), int32(7), int64(10), object(6)\n",
      "memory usage: 498.5+ KB\n"
     ]
    }
   ],
   "source": [
    "# Join with base table\n",
    "base = pd.merge(base, loan97, how='left', on='account_id')\n",
    "base.info()"
   ]
  },
  {
   "cell_type": "code",
   "execution_count": 26,
   "metadata": {
    "colab": {
     "base_uri": "https://localhost:8080/",
     "height": 308
    },
    "id": "lpofmi-57-Xx",
    "outputId": "ed94c1b4-77d4-487c-ab02-9a3dbd55a129"
   },
   "outputs": [
    {
     "data": {
      "text/html": [
       "<div>\n",
       "<style scoped>\n",
       "    .dataframe tbody tr th:only-of-type {\n",
       "        vertical-align: middle;\n",
       "    }\n",
       "\n",
       "    .dataframe tbody tr th {\n",
       "        vertical-align: top;\n",
       "    }\n",
       "\n",
       "    .dataframe thead th {\n",
       "        text-align: right;\n",
       "    }\n",
       "</style>\n",
       "<table border=\"1\" class=\"dataframe\">\n",
       "  <thead>\n",
       "    <tr style=\"text-align: right;\">\n",
       "      <th></th>\n",
       "      <th>account_id</th>\n",
       "      <th>bank_district_id</th>\n",
       "      <th>frequency</th>\n",
       "      <th>date</th>\n",
       "      <th>year</th>\n",
       "      <th>lor</th>\n",
       "      <th>disp_id</th>\n",
       "      <th>client_id</th>\n",
       "      <th>type</th>\n",
       "      <th>birth_number</th>\n",
       "      <th>...</th>\n",
       "      <th>total_withdrawal</th>\n",
       "      <th>average_withdrawal</th>\n",
       "      <th>frequency_withdrawal</th>\n",
       "      <th>most_recent_withdrawal_date</th>\n",
       "      <th>A1</th>\n",
       "      <th>A2</th>\n",
       "      <th>A3</th>\n",
       "      <th>loan_id</th>\n",
       "      <th>status</th>\n",
       "      <th>had_granted_loan_in1997</th>\n",
       "    </tr>\n",
       "  </thead>\n",
       "  <tbody>\n",
       "    <tr>\n",
       "      <th>0</th>\n",
       "      <td>576</td>\n",
       "      <td>55</td>\n",
       "      <td>POPLATEK MESICNE</td>\n",
       "      <td>930101</td>\n",
       "      <td>1993</td>\n",
       "      <td>3</td>\n",
       "      <td>692</td>\n",
       "      <td>692</td>\n",
       "      <td>OWNER</td>\n",
       "      <td>365111</td>\n",
       "      <td>...</td>\n",
       "      <td>70419.2</td>\n",
       "      <td>1853.14</td>\n",
       "      <td>38</td>\n",
       "      <td>961231</td>\n",
       "      <td>74</td>\n",
       "      <td>Ostrava - mesto</td>\n",
       "      <td>north Moravia</td>\n",
       "      <td>NaN</td>\n",
       "      <td>NaN</td>\n",
       "      <td>0</td>\n",
       "    </tr>\n",
       "    <tr>\n",
       "      <th>1</th>\n",
       "      <td>3818</td>\n",
       "      <td>74</td>\n",
       "      <td>POPLATEK MESICNE</td>\n",
       "      <td>930101</td>\n",
       "      <td>1993</td>\n",
       "      <td>3</td>\n",
       "      <td>4601</td>\n",
       "      <td>4601</td>\n",
       "      <td>OWNER</td>\n",
       "      <td>350402</td>\n",
       "      <td>...</td>\n",
       "      <td>223535.2</td>\n",
       "      <td>3062.13</td>\n",
       "      <td>73</td>\n",
       "      <td>961231</td>\n",
       "      <td>1</td>\n",
       "      <td>Hl.m. Praha</td>\n",
       "      <td>Prague</td>\n",
       "      <td>NaN</td>\n",
       "      <td>NaN</td>\n",
       "      <td>0</td>\n",
       "    </tr>\n",
       "    <tr>\n",
       "      <th>2</th>\n",
       "      <td>704</td>\n",
       "      <td>55</td>\n",
       "      <td>POPLATEK MESICNE</td>\n",
       "      <td>930101</td>\n",
       "      <td>1993</td>\n",
       "      <td>3</td>\n",
       "      <td>844</td>\n",
       "      <td>844</td>\n",
       "      <td>OWNER</td>\n",
       "      <td>450114</td>\n",
       "      <td>...</td>\n",
       "      <td>218531.2</td>\n",
       "      <td>3642.19</td>\n",
       "      <td>60</td>\n",
       "      <td>961231</td>\n",
       "      <td>22</td>\n",
       "      <td>Domazlice</td>\n",
       "      <td>west Bohemia</td>\n",
       "      <td>NaN</td>\n",
       "      <td>NaN</td>\n",
       "      <td>0</td>\n",
       "    </tr>\n",
       "    <tr>\n",
       "      <th>3</th>\n",
       "      <td>2378</td>\n",
       "      <td>16</td>\n",
       "      <td>POPLATEK MESICNE</td>\n",
       "      <td>930101</td>\n",
       "      <td>1993</td>\n",
       "      <td>3</td>\n",
       "      <td>2873</td>\n",
       "      <td>2873</td>\n",
       "      <td>OWNER</td>\n",
       "      <td>755324</td>\n",
       "      <td>...</td>\n",
       "      <td>633310.2</td>\n",
       "      <td>12924.70</td>\n",
       "      <td>49</td>\n",
       "      <td>961231</td>\n",
       "      <td>16</td>\n",
       "      <td>Jindrichuv Hradec</td>\n",
       "      <td>south Bohemia</td>\n",
       "      <td>NaN</td>\n",
       "      <td>NaN</td>\n",
       "      <td>0</td>\n",
       "    </tr>\n",
       "    <tr>\n",
       "      <th>4</th>\n",
       "      <td>2632</td>\n",
       "      <td>24</td>\n",
       "      <td>POPLATEK MESICNE</td>\n",
       "      <td>930102</td>\n",
       "      <td>1993</td>\n",
       "      <td>3</td>\n",
       "      <td>3177</td>\n",
       "      <td>3177</td>\n",
       "      <td>OWNER</td>\n",
       "      <td>380812</td>\n",
       "      <td>...</td>\n",
       "      <td>191071.2</td>\n",
       "      <td>2582.04</td>\n",
       "      <td>74</td>\n",
       "      <td>961231</td>\n",
       "      <td>24</td>\n",
       "      <td>Karlovy Vary</td>\n",
       "      <td>west Bohemia</td>\n",
       "      <td>NaN</td>\n",
       "      <td>NaN</td>\n",
       "      <td>0</td>\n",
       "    </tr>\n",
       "  </tbody>\n",
       "</table>\n",
       "<p>5 rows × 31 columns</p>\n",
       "</div>"
      ],
      "text/plain": [
       "   account_id  bank_district_id         frequency    date  year  lor  disp_id  \\\n",
       "0         576                55  POPLATEK MESICNE  930101  1993    3      692   \n",
       "1        3818                74  POPLATEK MESICNE  930101  1993    3     4601   \n",
       "2         704                55  POPLATEK MESICNE  930101  1993    3      844   \n",
       "3        2378                16  POPLATEK MESICNE  930101  1993    3     2873   \n",
       "4        2632                24  POPLATEK MESICNE  930102  1993    3     3177   \n",
       "\n",
       "   client_id   type  birth_number  ...  total_withdrawal  average_withdrawal  \\\n",
       "0        692  OWNER        365111  ...           70419.2             1853.14   \n",
       "1       4601  OWNER        350402  ...          223535.2             3062.13   \n",
       "2        844  OWNER        450114  ...          218531.2             3642.19   \n",
       "3       2873  OWNER        755324  ...          633310.2            12924.70   \n",
       "4       3177  OWNER        380812  ...          191071.2             2582.04   \n",
       "\n",
       "   frequency_withdrawal  most_recent_withdrawal_date  A1                 A2  \\\n",
       "0                    38                       961231  74    Ostrava - mesto   \n",
       "1                    73                       961231   1        Hl.m. Praha   \n",
       "2                    60                       961231  22          Domazlice   \n",
       "3                    49                       961231  16  Jindrichuv Hradec   \n",
       "4                    74                       961231  24       Karlovy Vary   \n",
       "\n",
       "              A3  loan_id  status  had_granted_loan_in1997  \n",
       "0  north Moravia      NaN     NaN                        0  \n",
       "1         Prague      NaN     NaN                        0  \n",
       "2   west Bohemia      NaN     NaN                        0  \n",
       "3  south Bohemia      NaN     NaN                        0  \n",
       "4   west Bohemia      NaN     NaN                        0  \n",
       "\n",
       "[5 rows x 31 columns]"
      ]
     },
     "execution_count": 26,
     "metadata": {},
     "output_type": "execute_result"
    }
   ],
   "source": [
    "# Fill NA values\n",
    "base['had_granted_loan_in1997'] = base['had_granted_loan_in1997'].fillna(0)\n",
    "\n",
    "# Format Output\n",
    "base['had_granted_loan_in1997'] = base['had_granted_loan_in1997'].astype('int')\n",
    "base.head()"
   ]
  },
  {
   "cell_type": "code",
   "execution_count": 27,
   "metadata": {},
   "outputs": [
    {
     "data": {
      "text/plain": [
       "0"
      ]
     },
     "execution_count": 27,
     "metadata": {},
     "output_type": "execute_result"
    }
   ],
   "source": [
    "# Make sure there arent any NA values\n",
    "base['had_granted_loan_in1997'].isna().sum()"
   ]
  },
  {
   "cell_type": "markdown",
   "metadata": {
    "id": "EGfqc1rN82B4"
   },
   "source": [
    "### Card Table\n",
    "\n",
    "add information from card table to create target variable"
   ]
  },
  {
   "cell_type": "code",
   "execution_count": 28,
   "metadata": {
    "colab": {
     "base_uri": "https://localhost:8080/",
     "height": 399
    },
    "id": "ecQA6eRSna8L",
    "outputId": "e0536077-fcbb-415c-dd23-ac2eef60f081"
   },
   "outputs": [
    {
     "name": "stdout",
     "output_type": "stream",
     "text": [
      "<class 'pandas.core.frame.DataFrame'>\n",
      "RangeIndex: 892 entries, 0 to 891\n",
      "Data columns (total 4 columns):\n",
      " #   Column   Non-Null Count  Dtype \n",
      "---  ------   --------------  ----- \n",
      " 0   card_id  892 non-null    int64 \n",
      " 1   disp_id  892 non-null    int64 \n",
      " 2   type     892 non-null    object\n",
      " 3   issued   892 non-null    object\n",
      "dtypes: int64(2), object(2)\n",
      "memory usage: 28.0+ KB\n"
     ]
    },
    {
     "data": {
      "text/html": [
       "<div>\n",
       "<style scoped>\n",
       "    .dataframe tbody tr th:only-of-type {\n",
       "        vertical-align: middle;\n",
       "    }\n",
       "\n",
       "    .dataframe tbody tr th {\n",
       "        vertical-align: top;\n",
       "    }\n",
       "\n",
       "    .dataframe thead th {\n",
       "        text-align: right;\n",
       "    }\n",
       "</style>\n",
       "<table border=\"1\" class=\"dataframe\">\n",
       "  <thead>\n",
       "    <tr style=\"text-align: right;\">\n",
       "      <th></th>\n",
       "      <th>card_id</th>\n",
       "      <th>disp_id</th>\n",
       "      <th>type</th>\n",
       "      <th>issued</th>\n",
       "    </tr>\n",
       "  </thead>\n",
       "  <tbody>\n",
       "    <tr>\n",
       "      <th>887</th>\n",
       "      <td>125</td>\n",
       "      <td>694</td>\n",
       "      <td>gold</td>\n",
       "      <td>981226 00:00:00</td>\n",
       "    </tr>\n",
       "    <tr>\n",
       "      <th>888</th>\n",
       "      <td>674</td>\n",
       "      <td>4360</td>\n",
       "      <td>classic</td>\n",
       "      <td>981228 00:00:00</td>\n",
       "    </tr>\n",
       "    <tr>\n",
       "      <th>889</th>\n",
       "      <td>322</td>\n",
       "      <td>2063</td>\n",
       "      <td>classic</td>\n",
       "      <td>981228 00:00:00</td>\n",
       "    </tr>\n",
       "    <tr>\n",
       "      <th>890</th>\n",
       "      <td>685</td>\n",
       "      <td>4467</td>\n",
       "      <td>classic</td>\n",
       "      <td>981229 00:00:00</td>\n",
       "    </tr>\n",
       "    <tr>\n",
       "      <th>891</th>\n",
       "      <td>635</td>\n",
       "      <td>4083</td>\n",
       "      <td>classic</td>\n",
       "      <td>981229 00:00:00</td>\n",
       "    </tr>\n",
       "  </tbody>\n",
       "</table>\n",
       "</div>"
      ],
      "text/plain": [
       "     card_id  disp_id     type           issued\n",
       "887      125      694     gold  981226 00:00:00\n",
       "888      674     4360  classic  981228 00:00:00\n",
       "889      322     2063  classic  981228 00:00:00\n",
       "890      685     4467  classic  981229 00:00:00\n",
       "891      635     4083  classic  981229 00:00:00"
      ]
     },
     "execution_count": 28,
     "metadata": {},
     "output_type": "execute_result"
    }
   ],
   "source": [
    "# Take a look at the data\n",
    "card.info()\n",
    "\n",
    "card.tail()"
   ]
  },
  {
   "cell_type": "code",
   "execution_count": 29,
   "metadata": {
    "colab": {
     "base_uri": "https://localhost:8080/",
     "height": 310
    },
    "id": "h19CB8pxoi-p",
    "outputId": "5c44b1a0-dea7-4bcc-fb42-db9902a4cd36"
   },
   "outputs": [
    {
     "name": "stderr",
     "output_type": "stream",
     "text": [
      "<ipython-input-29-b484184db86f>:3: SettingWithCopyWarning: \n",
      "A value is trying to be set on a copy of a slice from a DataFrame.\n",
      "Try using .loc[row_indexer,col_indexer] = value instead\n",
      "\n",
      "See the caveats in the documentation: https://pandas.pydata.org/pandas-docs/stable/user_guide/indexing.html#returning-a-view-versus-a-copy\n",
      "  card97['had_creditcard_issued_in1997'] = 1\n"
     ]
    },
    {
     "data": {
      "text/html": [
       "<div>\n",
       "<style scoped>\n",
       "    .dataframe tbody tr th:only-of-type {\n",
       "        vertical-align: middle;\n",
       "    }\n",
       "\n",
       "    .dataframe tbody tr th {\n",
       "        vertical-align: top;\n",
       "    }\n",
       "\n",
       "    .dataframe thead th {\n",
       "        text-align: right;\n",
       "    }\n",
       "</style>\n",
       "<table border=\"1\" class=\"dataframe\">\n",
       "  <thead>\n",
       "    <tr style=\"text-align: right;\">\n",
       "      <th></th>\n",
       "      <th>type_x</th>\n",
       "      <th>had_creditcard_issued_in1997</th>\n",
       "      <th>account_id</th>\n",
       "    </tr>\n",
       "  </thead>\n",
       "  <tbody>\n",
       "    <tr>\n",
       "      <th>0</th>\n",
       "      <td>classic</td>\n",
       "      <td>1</td>\n",
       "      <td>9504</td>\n",
       "    </tr>\n",
       "    <tr>\n",
       "      <th>1</th>\n",
       "      <td>classic</td>\n",
       "      <td>1</td>\n",
       "      <td>863</td>\n",
       "    </tr>\n",
       "    <tr>\n",
       "      <th>2</th>\n",
       "      <td>gold</td>\n",
       "      <td>1</td>\n",
       "      <td>2982</td>\n",
       "    </tr>\n",
       "    <tr>\n",
       "      <th>3</th>\n",
       "      <td>classic</td>\n",
       "      <td>1</td>\n",
       "      <td>3847</td>\n",
       "    </tr>\n",
       "    <tr>\n",
       "      <th>4</th>\n",
       "      <td>junior</td>\n",
       "      <td>1</td>\n",
       "      <td>655</td>\n",
       "    </tr>\n",
       "  </tbody>\n",
       "</table>\n",
       "</div>"
      ],
      "text/plain": [
       "    type_x  had_creditcard_issued_in1997  account_id\n",
       "0  classic                             1        9504\n",
       "1  classic                             1         863\n",
       "2     gold                             1        2982\n",
       "3  classic                             1        3847\n",
       "4   junior                             1         655"
      ]
     },
     "execution_count": 29,
     "metadata": {},
     "output_type": "execute_result"
    }
   ],
   "source": [
    "# Select on data during dependent variable period 1997\n",
    "card97 = card[card['issued'].astype(str).str[:2].isin(['97'])]\n",
    "\n",
    "# Set base value of granted loan\n",
    "card97['had_creditcard_issued_in1997'] = 1\n",
    "\n",
    "# Merge With disp table\n",
    "card97 = pd.merge(card97, disp, how='left', on='disp_id')\n",
    "\n",
    "# Drop Unused columns\n",
    "card97 = card97.drop(['card_id', 'disp_id', 'issued', 'client_id', 'type_y'], axis = 1)\n",
    "\n",
    "card97.head()"
   ]
  },
  {
   "cell_type": "code",
   "execution_count": 84,
   "metadata": {},
   "outputs": [
    {
     "name": "stdout",
     "output_type": "stream",
     "text": [
      "card_id       242\n",
      "account_id    242\n",
      "client_id     242\n",
      "dtype: int64\n",
      "['OWNER']\n"
     ]
    }
   ],
   "source": [
    "# Check if each credit card corresponds to exactly one account & one client (Owners)\n",
    "test = card[card['issued'].astype(str).str[:2].isin(['97'])]\n",
    "test = pd.merge(test, disp, how='left', on='disp_id')\n",
    "\n",
    "print(test[['card_id','account_id','client_id']].nunique())\n",
    "\n",
    "print(test['type_y'].unique())"
   ]
  },
  {
   "cell_type": "code",
   "execution_count": 30,
   "metadata": {
    "colab": {
     "base_uri": "https://localhost:8080/"
    },
    "id": "Rv4cQq5P_uuE",
    "outputId": "2d4acd44-1c4e-4bb3-b279-9aa8441303da"
   },
   "outputs": [
    {
     "name": "stdout",
     "output_type": "stream",
     "text": [
      "<class 'pandas.core.frame.DataFrame'>\n",
      "Int64Index: 2239 entries, 0 to 2238\n",
      "Data columns (total 33 columns):\n",
      " #   Column                        Non-Null Count  Dtype  \n",
      "---  ------                        --------------  -----  \n",
      " 0   account_id                    2239 non-null   int64  \n",
      " 1   bank_district_id              2239 non-null   int64  \n",
      " 2   frequency                     2239 non-null   object \n",
      " 3   date                          2239 non-null   int64  \n",
      " 4   year                          2239 non-null   int32  \n",
      " 5   lor                           2239 non-null   int32  \n",
      " 6   disp_id                       2239 non-null   int64  \n",
      " 7   client_id                     2239 non-null   int64  \n",
      " 8   type                          2239 non-null   object \n",
      " 9   birth_number                  2239 non-null   int64  \n",
      " 10  client_district_id            2239 non-null   int64  \n",
      " 11  birth_year                    2239 non-null   int32  \n",
      " 12  birth_day                     2239 non-null   int32  \n",
      " 13  birth_month                   2239 non-null   int32  \n",
      " 14  gender                        2239 non-null   object \n",
      " 15  age                           2239 non-null   int32  \n",
      " 16  age_group                     2239 non-null   int32  \n",
      " 17  total_credit                  2238 non-null   float64\n",
      " 18  average_credit                2238 non-null   float64\n",
      " 19  frequency_credit              2238 non-null   float64\n",
      " 20  most_recent_credit_date       2238 non-null   float64\n",
      " 21  total_withdrawal              2239 non-null   float64\n",
      " 22  average_withdrawal            2239 non-null   float64\n",
      " 23  frequency_withdrawal          2239 non-null   int64  \n",
      " 24  most_recent_withdrawal_date   2239 non-null   int64  \n",
      " 25  A1                            2239 non-null   int64  \n",
      " 26  A2                            2239 non-null   object \n",
      " 27  A3                            2239 non-null   object \n",
      " 28  loan_id                       31 non-null     float64\n",
      " 29  status                        31 non-null     object \n",
      " 30  had_granted_loan_in1997       2239 non-null   int32  \n",
      " 31  type_x                        120 non-null    object \n",
      " 32  had_creditcard_issued_in1997  120 non-null    float64\n",
      "dtypes: float64(8), int32(8), int64(10), object(7)\n",
      "memory usage: 524.8+ KB\n"
     ]
    }
   ],
   "source": [
    "# Join with base table\n",
    "base = pd.merge(base, card97, how='left', on='account_id')\n",
    "base.info()"
   ]
  },
  {
   "cell_type": "code",
   "execution_count": 31,
   "metadata": {
    "colab": {
     "base_uri": "https://localhost:8080/",
     "height": 308
    },
    "id": "-DXDN3H8981T",
    "outputId": "4e004ac7-039e-4b99-a481-ff21c2bb91ae"
   },
   "outputs": [
    {
     "data": {
      "text/html": [
       "<div>\n",
       "<style scoped>\n",
       "    .dataframe tbody tr th:only-of-type {\n",
       "        vertical-align: middle;\n",
       "    }\n",
       "\n",
       "    .dataframe tbody tr th {\n",
       "        vertical-align: top;\n",
       "    }\n",
       "\n",
       "    .dataframe thead th {\n",
       "        text-align: right;\n",
       "    }\n",
       "</style>\n",
       "<table border=\"1\" class=\"dataframe\">\n",
       "  <thead>\n",
       "    <tr style=\"text-align: right;\">\n",
       "      <th></th>\n",
       "      <th>account_id</th>\n",
       "      <th>bank_district_id</th>\n",
       "      <th>frequency</th>\n",
       "      <th>date</th>\n",
       "      <th>year</th>\n",
       "      <th>lor</th>\n",
       "      <th>disp_id</th>\n",
       "      <th>client_id</th>\n",
       "      <th>type</th>\n",
       "      <th>birth_number</th>\n",
       "      <th>...</th>\n",
       "      <th>frequency_withdrawal</th>\n",
       "      <th>most_recent_withdrawal_date</th>\n",
       "      <th>A1</th>\n",
       "      <th>A2</th>\n",
       "      <th>A3</th>\n",
       "      <th>loan_id</th>\n",
       "      <th>status</th>\n",
       "      <th>had_granted_loan_in1997</th>\n",
       "      <th>type_x</th>\n",
       "      <th>had_creditcard_issued_in1997</th>\n",
       "    </tr>\n",
       "  </thead>\n",
       "  <tbody>\n",
       "    <tr>\n",
       "      <th>0</th>\n",
       "      <td>576</td>\n",
       "      <td>55</td>\n",
       "      <td>POPLATEK MESICNE</td>\n",
       "      <td>930101</td>\n",
       "      <td>1993</td>\n",
       "      <td>3</td>\n",
       "      <td>692</td>\n",
       "      <td>692</td>\n",
       "      <td>OWNER</td>\n",
       "      <td>365111</td>\n",
       "      <td>...</td>\n",
       "      <td>38</td>\n",
       "      <td>961231</td>\n",
       "      <td>74</td>\n",
       "      <td>Ostrava - mesto</td>\n",
       "      <td>north Moravia</td>\n",
       "      <td>NaN</td>\n",
       "      <td>NaN</td>\n",
       "      <td>0</td>\n",
       "      <td>NaN</td>\n",
       "      <td>0</td>\n",
       "    </tr>\n",
       "    <tr>\n",
       "      <th>1</th>\n",
       "      <td>3818</td>\n",
       "      <td>74</td>\n",
       "      <td>POPLATEK MESICNE</td>\n",
       "      <td>930101</td>\n",
       "      <td>1993</td>\n",
       "      <td>3</td>\n",
       "      <td>4601</td>\n",
       "      <td>4601</td>\n",
       "      <td>OWNER</td>\n",
       "      <td>350402</td>\n",
       "      <td>...</td>\n",
       "      <td>73</td>\n",
       "      <td>961231</td>\n",
       "      <td>1</td>\n",
       "      <td>Hl.m. Praha</td>\n",
       "      <td>Prague</td>\n",
       "      <td>NaN</td>\n",
       "      <td>NaN</td>\n",
       "      <td>0</td>\n",
       "      <td>NaN</td>\n",
       "      <td>0</td>\n",
       "    </tr>\n",
       "    <tr>\n",
       "      <th>2</th>\n",
       "      <td>704</td>\n",
       "      <td>55</td>\n",
       "      <td>POPLATEK MESICNE</td>\n",
       "      <td>930101</td>\n",
       "      <td>1993</td>\n",
       "      <td>3</td>\n",
       "      <td>844</td>\n",
       "      <td>844</td>\n",
       "      <td>OWNER</td>\n",
       "      <td>450114</td>\n",
       "      <td>...</td>\n",
       "      <td>60</td>\n",
       "      <td>961231</td>\n",
       "      <td>22</td>\n",
       "      <td>Domazlice</td>\n",
       "      <td>west Bohemia</td>\n",
       "      <td>NaN</td>\n",
       "      <td>NaN</td>\n",
       "      <td>0</td>\n",
       "      <td>NaN</td>\n",
       "      <td>0</td>\n",
       "    </tr>\n",
       "    <tr>\n",
       "      <th>3</th>\n",
       "      <td>2378</td>\n",
       "      <td>16</td>\n",
       "      <td>POPLATEK MESICNE</td>\n",
       "      <td>930101</td>\n",
       "      <td>1993</td>\n",
       "      <td>3</td>\n",
       "      <td>2873</td>\n",
       "      <td>2873</td>\n",
       "      <td>OWNER</td>\n",
       "      <td>755324</td>\n",
       "      <td>...</td>\n",
       "      <td>49</td>\n",
       "      <td>961231</td>\n",
       "      <td>16</td>\n",
       "      <td>Jindrichuv Hradec</td>\n",
       "      <td>south Bohemia</td>\n",
       "      <td>NaN</td>\n",
       "      <td>NaN</td>\n",
       "      <td>0</td>\n",
       "      <td>NaN</td>\n",
       "      <td>0</td>\n",
       "    </tr>\n",
       "    <tr>\n",
       "      <th>4</th>\n",
       "      <td>2632</td>\n",
       "      <td>24</td>\n",
       "      <td>POPLATEK MESICNE</td>\n",
       "      <td>930102</td>\n",
       "      <td>1993</td>\n",
       "      <td>3</td>\n",
       "      <td>3177</td>\n",
       "      <td>3177</td>\n",
       "      <td>OWNER</td>\n",
       "      <td>380812</td>\n",
       "      <td>...</td>\n",
       "      <td>74</td>\n",
       "      <td>961231</td>\n",
       "      <td>24</td>\n",
       "      <td>Karlovy Vary</td>\n",
       "      <td>west Bohemia</td>\n",
       "      <td>NaN</td>\n",
       "      <td>NaN</td>\n",
       "      <td>0</td>\n",
       "      <td>NaN</td>\n",
       "      <td>0</td>\n",
       "    </tr>\n",
       "  </tbody>\n",
       "</table>\n",
       "<p>5 rows × 33 columns</p>\n",
       "</div>"
      ],
      "text/plain": [
       "   account_id  bank_district_id         frequency    date  year  lor  disp_id  \\\n",
       "0         576                55  POPLATEK MESICNE  930101  1993    3      692   \n",
       "1        3818                74  POPLATEK MESICNE  930101  1993    3     4601   \n",
       "2         704                55  POPLATEK MESICNE  930101  1993    3      844   \n",
       "3        2378                16  POPLATEK MESICNE  930101  1993    3     2873   \n",
       "4        2632                24  POPLATEK MESICNE  930102  1993    3     3177   \n",
       "\n",
       "   client_id   type  birth_number  ...  frequency_withdrawal  \\\n",
       "0        692  OWNER        365111  ...                    38   \n",
       "1       4601  OWNER        350402  ...                    73   \n",
       "2        844  OWNER        450114  ...                    60   \n",
       "3       2873  OWNER        755324  ...                    49   \n",
       "4       3177  OWNER        380812  ...                    74   \n",
       "\n",
       "   most_recent_withdrawal_date  A1                 A2             A3  loan_id  \\\n",
       "0                       961231  74    Ostrava - mesto  north Moravia      NaN   \n",
       "1                       961231   1        Hl.m. Praha         Prague      NaN   \n",
       "2                       961231  22          Domazlice   west Bohemia      NaN   \n",
       "3                       961231  16  Jindrichuv Hradec  south Bohemia      NaN   \n",
       "4                       961231  24       Karlovy Vary   west Bohemia      NaN   \n",
       "\n",
       "   status  had_granted_loan_in1997  type_x  had_creditcard_issued_in1997  \n",
       "0     NaN                        0     NaN                             0  \n",
       "1     NaN                        0     NaN                             0  \n",
       "2     NaN                        0     NaN                             0  \n",
       "3     NaN                        0     NaN                             0  \n",
       "4     NaN                        0     NaN                             0  \n",
       "\n",
       "[5 rows x 33 columns]"
      ]
     },
     "execution_count": 31,
     "metadata": {},
     "output_type": "execute_result"
    }
   ],
   "source": [
    "# Fill NA values\n",
    "base['had_creditcard_issued_in1997'] = base['had_creditcard_issued_in1997'].fillna(0)\n",
    "\n",
    "# Format Output\n",
    "base['had_creditcard_issued_in1997'] = base['had_creditcard_issued_in1997'].astype('int')\n",
    "base.head()"
   ]
  },
  {
   "cell_type": "code",
   "execution_count": 32,
   "metadata": {
    "colab": {
     "base_uri": "https://localhost:8080/"
    },
    "id": "kvHV5OhO__l9",
    "outputId": "e9bd08a3-33ff-4753-a5d2-37bb04834e5a"
   },
   "outputs": [
    {
     "name": "stdout",
     "output_type": "stream",
     "text": [
      "<class 'pandas.core.frame.DataFrame'>\n",
      "Int64Index: 2239 entries, 0 to 2238\n",
      "Data columns (total 32 columns):\n",
      " #   Column                        Non-Null Count  Dtype  \n",
      "---  ------                        --------------  -----  \n",
      " 0   account_id                    2239 non-null   int64  \n",
      " 1   bank_district_id              2239 non-null   int64  \n",
      " 2   frequency                     2239 non-null   object \n",
      " 3   date_opened                   2239 non-null   int64  \n",
      " 4   year                          2239 non-null   int32  \n",
      " 5   lor                           2239 non-null   int32  \n",
      " 6   disp_id                       2239 non-null   int64  \n",
      " 7   client_id                     2239 non-null   int64  \n",
      " 8   type                          2239 non-null   object \n",
      " 9   birth_number                  2239 non-null   int64  \n",
      " 10  client_district_id            2239 non-null   int64  \n",
      " 11  birth_year                    2239 non-null   int32  \n",
      " 12  birth_day                     2239 non-null   int32  \n",
      " 13  birth_month                   2239 non-null   int32  \n",
      " 14  gender                        2239 non-null   object \n",
      " 15  age                           2239 non-null   int32  \n",
      " 16  age_group                     2239 non-null   int32  \n",
      " 17  total_credit                  2239 non-null   float64\n",
      " 18  average_credit                2239 non-null   float64\n",
      " 19  frequency_credit              2239 non-null   int32  \n",
      " 20  most_recent_credit_date       2239 non-null   int32  \n",
      " 21  total_withdrawal              2239 non-null   float64\n",
      " 22  average_withdrawal            2239 non-null   float64\n",
      " 23  frequency_withdrawal          2239 non-null   int64  \n",
      " 24  most_recent_withdrawal_date   2239 non-null   int64  \n",
      " 25  client_district               2239 non-null   object \n",
      " 26  client_region                 2239 non-null   object \n",
      " 27  loan_id                       2239 non-null   int32  \n",
      " 28  loan_status                   2239 non-null   object \n",
      " 29  had_granted_loan_in1997       2239 non-null   int32  \n",
      " 30  creditcard_type               2239 non-null   object \n",
      " 31  had_creditcard_issued_in1997  2239 non-null   int32  \n",
      "dtypes: float64(4), int32(12), int64(9), object(7)\n",
      "memory usage: 472.3+ KB\n"
     ]
    }
   ],
   "source": [
    "# Finalization\n",
    "\n",
    "# Renale column Names\n",
    "base = base.rename(columns={'date':'date_opened', 'status':'loan_status', 'type_x':'creditcard_type', 'A2':'client_district', 'A3':'client_region'})\n",
    "\n",
    "# Drop Duplicate Columns\n",
    "base = base.drop('A1', axis = 1)\n",
    "\n",
    "# Fill NA values with 0\n",
    "base = base.fillna(0)\n",
    "\n",
    "# Adjust Data Type\n",
    "base['most_recent_credit_date'] = base['most_recent_credit_date'].astype('int')\n",
    "base['frequency_credit'] = base['frequency_credit'].astype('int')\n",
    "base['loan_id'] = base['loan_id'].astype('int')\n",
    "\n",
    "base.info()"
   ]
  },
  {
   "cell_type": "markdown",
   "metadata": {
    "id": "Gfj6Fs0hCjv7"
   },
   "source": [
    "### Final Product"
   ]
  },
  {
   "cell_type": "code",
   "execution_count": 33,
   "metadata": {
    "colab": {
     "base_uri": "https://localhost:8080/",
     "height": 308
    },
    "id": "gtLXVdF3AXhM",
    "outputId": "e3c74f18-3637-488d-a00a-8137fe53da6b"
   },
   "outputs": [
    {
     "data": {
      "text/html": [
       "<div>\n",
       "<style scoped>\n",
       "    .dataframe tbody tr th:only-of-type {\n",
       "        vertical-align: middle;\n",
       "    }\n",
       "\n",
       "    .dataframe tbody tr th {\n",
       "        vertical-align: top;\n",
       "    }\n",
       "\n",
       "    .dataframe thead th {\n",
       "        text-align: right;\n",
       "    }\n",
       "</style>\n",
       "<table border=\"1\" class=\"dataframe\">\n",
       "  <thead>\n",
       "    <tr style=\"text-align: right;\">\n",
       "      <th></th>\n",
       "      <th>account_id</th>\n",
       "      <th>bank_district_id</th>\n",
       "      <th>frequency</th>\n",
       "      <th>date_opened</th>\n",
       "      <th>year</th>\n",
       "      <th>lor</th>\n",
       "      <th>disp_id</th>\n",
       "      <th>client_id</th>\n",
       "      <th>type</th>\n",
       "      <th>birth_number</th>\n",
       "      <th>...</th>\n",
       "      <th>average_withdrawal</th>\n",
       "      <th>frequency_withdrawal</th>\n",
       "      <th>most_recent_withdrawal_date</th>\n",
       "      <th>client_district</th>\n",
       "      <th>client_region</th>\n",
       "      <th>loan_id</th>\n",
       "      <th>loan_status</th>\n",
       "      <th>had_granted_loan_in1997</th>\n",
       "      <th>creditcard_type</th>\n",
       "      <th>had_creditcard_issued_in1997</th>\n",
       "    </tr>\n",
       "  </thead>\n",
       "  <tbody>\n",
       "    <tr>\n",
       "      <th>0</th>\n",
       "      <td>576</td>\n",
       "      <td>55</td>\n",
       "      <td>POPLATEK MESICNE</td>\n",
       "      <td>930101</td>\n",
       "      <td>1993</td>\n",
       "      <td>3</td>\n",
       "      <td>692</td>\n",
       "      <td>692</td>\n",
       "      <td>OWNER</td>\n",
       "      <td>365111</td>\n",
       "      <td>...</td>\n",
       "      <td>1853.14</td>\n",
       "      <td>38</td>\n",
       "      <td>961231</td>\n",
       "      <td>Ostrava - mesto</td>\n",
       "      <td>north Moravia</td>\n",
       "      <td>0</td>\n",
       "      <td>0</td>\n",
       "      <td>0</td>\n",
       "      <td>0</td>\n",
       "      <td>0</td>\n",
       "    </tr>\n",
       "    <tr>\n",
       "      <th>1</th>\n",
       "      <td>3818</td>\n",
       "      <td>74</td>\n",
       "      <td>POPLATEK MESICNE</td>\n",
       "      <td>930101</td>\n",
       "      <td>1993</td>\n",
       "      <td>3</td>\n",
       "      <td>4601</td>\n",
       "      <td>4601</td>\n",
       "      <td>OWNER</td>\n",
       "      <td>350402</td>\n",
       "      <td>...</td>\n",
       "      <td>3062.13</td>\n",
       "      <td>73</td>\n",
       "      <td>961231</td>\n",
       "      <td>Hl.m. Praha</td>\n",
       "      <td>Prague</td>\n",
       "      <td>0</td>\n",
       "      <td>0</td>\n",
       "      <td>0</td>\n",
       "      <td>0</td>\n",
       "      <td>0</td>\n",
       "    </tr>\n",
       "    <tr>\n",
       "      <th>2</th>\n",
       "      <td>704</td>\n",
       "      <td>55</td>\n",
       "      <td>POPLATEK MESICNE</td>\n",
       "      <td>930101</td>\n",
       "      <td>1993</td>\n",
       "      <td>3</td>\n",
       "      <td>844</td>\n",
       "      <td>844</td>\n",
       "      <td>OWNER</td>\n",
       "      <td>450114</td>\n",
       "      <td>...</td>\n",
       "      <td>3642.19</td>\n",
       "      <td>60</td>\n",
       "      <td>961231</td>\n",
       "      <td>Domazlice</td>\n",
       "      <td>west Bohemia</td>\n",
       "      <td>0</td>\n",
       "      <td>0</td>\n",
       "      <td>0</td>\n",
       "      <td>0</td>\n",
       "      <td>0</td>\n",
       "    </tr>\n",
       "    <tr>\n",
       "      <th>3</th>\n",
       "      <td>2378</td>\n",
       "      <td>16</td>\n",
       "      <td>POPLATEK MESICNE</td>\n",
       "      <td>930101</td>\n",
       "      <td>1993</td>\n",
       "      <td>3</td>\n",
       "      <td>2873</td>\n",
       "      <td>2873</td>\n",
       "      <td>OWNER</td>\n",
       "      <td>755324</td>\n",
       "      <td>...</td>\n",
       "      <td>12924.70</td>\n",
       "      <td>49</td>\n",
       "      <td>961231</td>\n",
       "      <td>Jindrichuv Hradec</td>\n",
       "      <td>south Bohemia</td>\n",
       "      <td>0</td>\n",
       "      <td>0</td>\n",
       "      <td>0</td>\n",
       "      <td>0</td>\n",
       "      <td>0</td>\n",
       "    </tr>\n",
       "    <tr>\n",
       "      <th>4</th>\n",
       "      <td>2632</td>\n",
       "      <td>24</td>\n",
       "      <td>POPLATEK MESICNE</td>\n",
       "      <td>930102</td>\n",
       "      <td>1993</td>\n",
       "      <td>3</td>\n",
       "      <td>3177</td>\n",
       "      <td>3177</td>\n",
       "      <td>OWNER</td>\n",
       "      <td>380812</td>\n",
       "      <td>...</td>\n",
       "      <td>2582.04</td>\n",
       "      <td>74</td>\n",
       "      <td>961231</td>\n",
       "      <td>Karlovy Vary</td>\n",
       "      <td>west Bohemia</td>\n",
       "      <td>0</td>\n",
       "      <td>0</td>\n",
       "      <td>0</td>\n",
       "      <td>0</td>\n",
       "      <td>0</td>\n",
       "    </tr>\n",
       "  </tbody>\n",
       "</table>\n",
       "<p>5 rows × 32 columns</p>\n",
       "</div>"
      ],
      "text/plain": [
       "   account_id  bank_district_id         frequency  date_opened  year  lor  \\\n",
       "0         576                55  POPLATEK MESICNE       930101  1993    3   \n",
       "1        3818                74  POPLATEK MESICNE       930101  1993    3   \n",
       "2         704                55  POPLATEK MESICNE       930101  1993    3   \n",
       "3        2378                16  POPLATEK MESICNE       930101  1993    3   \n",
       "4        2632                24  POPLATEK MESICNE       930102  1993    3   \n",
       "\n",
       "   disp_id  client_id   type  birth_number  ...  average_withdrawal  \\\n",
       "0      692        692  OWNER        365111  ...             1853.14   \n",
       "1     4601       4601  OWNER        350402  ...             3062.13   \n",
       "2      844        844  OWNER        450114  ...             3642.19   \n",
       "3     2873       2873  OWNER        755324  ...            12924.70   \n",
       "4     3177       3177  OWNER        380812  ...             2582.04   \n",
       "\n",
       "   frequency_withdrawal  most_recent_withdrawal_date    client_district  \\\n",
       "0                    38                       961231    Ostrava - mesto   \n",
       "1                    73                       961231        Hl.m. Praha   \n",
       "2                    60                       961231          Domazlice   \n",
       "3                    49                       961231  Jindrichuv Hradec   \n",
       "4                    74                       961231       Karlovy Vary   \n",
       "\n",
       "   client_region  loan_id  loan_status  had_granted_loan_in1997  \\\n",
       "0  north Moravia        0            0                        0   \n",
       "1         Prague        0            0                        0   \n",
       "2   west Bohemia        0            0                        0   \n",
       "3  south Bohemia        0            0                        0   \n",
       "4   west Bohemia        0            0                        0   \n",
       "\n",
       "   creditcard_type  had_creditcard_issued_in1997  \n",
       "0                0                             0  \n",
       "1                0                             0  \n",
       "2                0                             0  \n",
       "3                0                             0  \n",
       "4                0                             0  \n",
       "\n",
       "[5 rows x 32 columns]"
      ]
     },
     "execution_count": 33,
     "metadata": {},
     "output_type": "execute_result"
    }
   ],
   "source": [
    "base.head()"
   ]
  },
  {
   "cell_type": "code",
   "execution_count": 34,
   "metadata": {
    "colab": {
     "base_uri": "https://localhost:8080/"
    },
    "id": "9cXrY_15EOWl",
    "outputId": "7854ac5a-0a0d-457c-9ac5-758deaa9c877"
   },
   "outputs": [
    {
     "name": "stdout",
     "output_type": "stream",
     "text": [
      "['OWNER']\n",
      "0\n",
      "2239\n"
     ]
    }
   ],
   "source": [
    "# Check granularity\n",
    "print(base['type'].unique())\n",
    "\n",
    "# Check null values\n",
    "print(base.isna().sum().sum())\n",
    "\n",
    "# Check granularity\n",
    "print(base['client_id'].nunique())"
   ]
  },
  {
   "cell_type": "markdown",
   "metadata": {},
   "source": [
    "### Export Base Table into CSV File"
   ]
  },
  {
   "cell_type": "code",
   "execution_count": 35,
   "metadata": {},
   "outputs": [
    {
     "name": "stdout",
     "output_type": "stream",
     "text": [
      "Succesfully Extracted into csv!\n"
     ]
    }
   ],
   "source": [
    "base.to_csv('../data/processed/Base Table.csv', index = False, header=True)\n",
    "\n",
    "print(\"Succesfully Extracted into csv!\")"
   ]
  },
  {
   "cell_type": "markdown",
   "metadata": {
    "id": "pgYSKsbIC_GF"
   },
   "source": [
    "## Exploratory Data Analysis\n",
    "\n",
    "In this step, we're going to explore our dataset and see whether there are some correlation between the independent variable and dependent variable"
   ]
  },
  {
   "cell_type": "code",
   "execution_count": 36,
   "metadata": {},
   "outputs": [
    {
     "data": {
      "text/plain": [
       "2239"
      ]
     },
     "execution_count": 36,
     "metadata": {},
     "output_type": "execute_result"
    }
   ],
   "source": [
    "import matplotlib.pyplot as plt\n",
    "import seaborn as sns\n",
    "\n",
    "# How many clients are there within our data?\n",
    "base[\"client_id\"].nunique()"
   ]
  },
  {
   "cell_type": "code",
   "execution_count": 37,
   "metadata": {},
   "outputs": [],
   "source": [
    "import numpy as np\n",
    "\n",
    "# Reference\n",
    "# https://stackoverflow.com/questions/43214978/seaborn-barplot-displaying-values\n",
    "\n",
    "def show_values_on_bars(axs, h_v=\"v\", space=0.4):\n",
    "    def _show_on_single_plot(ax):\n",
    "        if h_v == \"v\":\n",
    "            for p in ax.patches:\n",
    "                _x = p.get_x() + p.get_width() / 2\n",
    "                _y = p.get_y() + p.get_height()\n",
    "                value = int(p.get_height())\n",
    "                ax.text(_x, _y, value, ha=\"center\") \n",
    "        elif h_v == \"h\":\n",
    "            for p in ax.patches:\n",
    "                _x = p.get_x() + p.get_width() + float(space)\n",
    "                _y = p.get_y() + p.get_height()\n",
    "                value = int(p.get_width())\n",
    "                ax.text(_x, _y, value, ha=\"left\")\n",
    "\n",
    "    if isinstance(axs, np.ndarray):\n",
    "        for idx, ax in np.ndenumerate(axs):\n",
    "            _show_on_single_plot(ax)\n",
    "    else:\n",
    "        _show_on_single_plot(axs)"
   ]
  },
  {
   "cell_type": "code",
   "execution_count": 38,
   "metadata": {},
   "outputs": [
    {
     "data": {
      "text/html": [
       "<div>\n",
       "<style scoped>\n",
       "    .dataframe tbody tr th:only-of-type {\n",
       "        vertical-align: middle;\n",
       "    }\n",
       "\n",
       "    .dataframe tbody tr th {\n",
       "        vertical-align: top;\n",
       "    }\n",
       "\n",
       "    .dataframe thead th {\n",
       "        text-align: right;\n",
       "    }\n",
       "</style>\n",
       "<table border=\"1\" class=\"dataframe\">\n",
       "  <thead>\n",
       "    <tr style=\"text-align: right;\">\n",
       "      <th></th>\n",
       "      <th>client_id</th>\n",
       "      <th>age</th>\n",
       "    </tr>\n",
       "  </thead>\n",
       "  <tbody>\n",
       "    <tr>\n",
       "      <th>5</th>\n",
       "      <td>2397</td>\n",
       "      <td>78</td>\n",
       "    </tr>\n",
       "    <tr>\n",
       "      <th>13</th>\n",
       "      <td>2636</td>\n",
       "      <td>78</td>\n",
       "    </tr>\n",
       "    <tr>\n",
       "      <th>31</th>\n",
       "      <td>2099</td>\n",
       "      <td>78</td>\n",
       "    </tr>\n",
       "    <tr>\n",
       "      <th>68</th>\n",
       "      <td>1419</td>\n",
       "      <td>78</td>\n",
       "    </tr>\n",
       "    <tr>\n",
       "      <th>159</th>\n",
       "      <td>2939</td>\n",
       "      <td>78</td>\n",
       "    </tr>\n",
       "    <tr>\n",
       "      <th>163</th>\n",
       "      <td>3831</td>\n",
       "      <td>78</td>\n",
       "    </tr>\n",
       "    <tr>\n",
       "      <th>434</th>\n",
       "      <td>2002</td>\n",
       "      <td>78</td>\n",
       "    </tr>\n",
       "    <tr>\n",
       "      <th>476</th>\n",
       "      <td>4423</td>\n",
       "      <td>78</td>\n",
       "    </tr>\n",
       "    <tr>\n",
       "      <th>477</th>\n",
       "      <td>2114</td>\n",
       "      <td>78</td>\n",
       "    </tr>\n",
       "    <tr>\n",
       "      <th>646</th>\n",
       "      <td>1976</td>\n",
       "      <td>78</td>\n",
       "    </tr>\n",
       "    <tr>\n",
       "      <th>776</th>\n",
       "      <td>2051</td>\n",
       "      <td>78</td>\n",
       "    </tr>\n",
       "    <tr>\n",
       "      <th>1200</th>\n",
       "      <td>1703</td>\n",
       "      <td>78</td>\n",
       "    </tr>\n",
       "    <tr>\n",
       "      <th>1220</th>\n",
       "      <td>4342</td>\n",
       "      <td>78</td>\n",
       "    </tr>\n",
       "    <tr>\n",
       "      <th>1420</th>\n",
       "      <td>2899</td>\n",
       "      <td>78</td>\n",
       "    </tr>\n",
       "    <tr>\n",
       "      <th>1699</th>\n",
       "      <td>1329</td>\n",
       "      <td>78</td>\n",
       "    </tr>\n",
       "    <tr>\n",
       "      <th>1830</th>\n",
       "      <td>1991</td>\n",
       "      <td>78</td>\n",
       "    </tr>\n",
       "    <tr>\n",
       "      <th>1992</th>\n",
       "      <td>3424</td>\n",
       "      <td>78</td>\n",
       "    </tr>\n",
       "    <tr>\n",
       "      <th>2041</th>\n",
       "      <td>1664</td>\n",
       "      <td>78</td>\n",
       "    </tr>\n",
       "    <tr>\n",
       "      <th>2067</th>\n",
       "      <td>2053</td>\n",
       "      <td>78</td>\n",
       "    </tr>\n",
       "    <tr>\n",
       "      <th>2125</th>\n",
       "      <td>1974</td>\n",
       "      <td>78</td>\n",
       "    </tr>\n",
       "  </tbody>\n",
       "</table>\n",
       "</div>"
      ],
      "text/plain": [
       "      client_id  age\n",
       "5          2397   78\n",
       "13         2636   78\n",
       "31         2099   78\n",
       "68         1419   78\n",
       "159        2939   78\n",
       "163        3831   78\n",
       "434        2002   78\n",
       "476        4423   78\n",
       "477        2114   78\n",
       "646        1976   78\n",
       "776        2051   78\n",
       "1200       1703   78\n",
       "1220       4342   78\n",
       "1420       2899   78\n",
       "1699       1329   78\n",
       "1830       1991   78\n",
       "1992       3424   78\n",
       "2041       1664   78\n",
       "2067       2053   78\n",
       "2125       1974   78"
      ]
     },
     "execution_count": 38,
     "metadata": {},
     "output_type": "execute_result"
    }
   ],
   "source": [
    "# Oldest Client\n",
    "base[base['age'] == base['age'].max()][['client_id', 'age']]"
   ]
  },
  {
   "cell_type": "code",
   "execution_count": 39,
   "metadata": {},
   "outputs": [
    {
     "data": {
      "text/html": [
       "<div>\n",
       "<style scoped>\n",
       "    .dataframe tbody tr th:only-of-type {\n",
       "        vertical-align: middle;\n",
       "    }\n",
       "\n",
       "    .dataframe tbody tr th {\n",
       "        vertical-align: top;\n",
       "    }\n",
       "\n",
       "    .dataframe thead th {\n",
       "        text-align: right;\n",
       "    }\n",
       "</style>\n",
       "<table border=\"1\" class=\"dataframe\">\n",
       "  <thead>\n",
       "    <tr style=\"text-align: right;\">\n",
       "      <th></th>\n",
       "      <th>client_id</th>\n",
       "      <th>age</th>\n",
       "    </tr>\n",
       "  </thead>\n",
       "  <tbody>\n",
       "    <tr>\n",
       "      <th>81</th>\n",
       "      <td>1999</td>\n",
       "      <td>14</td>\n",
       "    </tr>\n",
       "    <tr>\n",
       "      <th>167</th>\n",
       "      <td>5246</td>\n",
       "      <td>14</td>\n",
       "    </tr>\n",
       "    <tr>\n",
       "      <th>227</th>\n",
       "      <td>2475</td>\n",
       "      <td>14</td>\n",
       "    </tr>\n",
       "    <tr>\n",
       "      <th>242</th>\n",
       "      <td>1660</td>\n",
       "      <td>14</td>\n",
       "    </tr>\n",
       "    <tr>\n",
       "      <th>267</th>\n",
       "      <td>3624</td>\n",
       "      <td>14</td>\n",
       "    </tr>\n",
       "    <tr>\n",
       "      <th>319</th>\n",
       "      <td>4568</td>\n",
       "      <td>14</td>\n",
       "    </tr>\n",
       "    <tr>\n",
       "      <th>388</th>\n",
       "      <td>1491</td>\n",
       "      <td>14</td>\n",
       "    </tr>\n",
       "    <tr>\n",
       "      <th>658</th>\n",
       "      <td>4823</td>\n",
       "      <td>14</td>\n",
       "    </tr>\n",
       "    <tr>\n",
       "      <th>1023</th>\n",
       "      <td>5283</td>\n",
       "      <td>14</td>\n",
       "    </tr>\n",
       "    <tr>\n",
       "      <th>1182</th>\n",
       "      <td>3230</td>\n",
       "      <td>14</td>\n",
       "    </tr>\n",
       "    <tr>\n",
       "      <th>1417</th>\n",
       "      <td>1606</td>\n",
       "      <td>14</td>\n",
       "    </tr>\n",
       "    <tr>\n",
       "      <th>1656</th>\n",
       "      <td>4949</td>\n",
       "      <td>14</td>\n",
       "    </tr>\n",
       "    <tr>\n",
       "      <th>1709</th>\n",
       "      <td>180</td>\n",
       "      <td>14</td>\n",
       "    </tr>\n",
       "    <tr>\n",
       "      <th>1735</th>\n",
       "      <td>3066</td>\n",
       "      <td>14</td>\n",
       "    </tr>\n",
       "    <tr>\n",
       "      <th>1803</th>\n",
       "      <td>4944</td>\n",
       "      <td>14</td>\n",
       "    </tr>\n",
       "    <tr>\n",
       "      <th>1844</th>\n",
       "      <td>666</td>\n",
       "      <td>14</td>\n",
       "    </tr>\n",
       "    <tr>\n",
       "      <th>1854</th>\n",
       "      <td>4961</td>\n",
       "      <td>14</td>\n",
       "    </tr>\n",
       "    <tr>\n",
       "      <th>1871</th>\n",
       "      <td>268</td>\n",
       "      <td>14</td>\n",
       "    </tr>\n",
       "    <tr>\n",
       "      <th>1995</th>\n",
       "      <td>3795</td>\n",
       "      <td>14</td>\n",
       "    </tr>\n",
       "    <tr>\n",
       "      <th>2064</th>\n",
       "      <td>3096</td>\n",
       "      <td>14</td>\n",
       "    </tr>\n",
       "    <tr>\n",
       "      <th>2227</th>\n",
       "      <td>2042</td>\n",
       "      <td>14</td>\n",
       "    </tr>\n",
       "  </tbody>\n",
       "</table>\n",
       "</div>"
      ],
      "text/plain": [
       "      client_id  age\n",
       "81         1999   14\n",
       "167        5246   14\n",
       "227        2475   14\n",
       "242        1660   14\n",
       "267        3624   14\n",
       "319        4568   14\n",
       "388        1491   14\n",
       "658        4823   14\n",
       "1023       5283   14\n",
       "1182       3230   14\n",
       "1417       1606   14\n",
       "1656       4949   14\n",
       "1709        180   14\n",
       "1735       3066   14\n",
       "1803       4944   14\n",
       "1844        666   14\n",
       "1854       4961   14\n",
       "1871        268   14\n",
       "1995       3795   14\n",
       "2064       3096   14\n",
       "2227       2042   14"
      ]
     },
     "execution_count": 39,
     "metadata": {},
     "output_type": "execute_result"
    }
   ],
   "source": [
    "# Youngest Client\n",
    "base[base['age'] == base['age'].min()][['client_id', 'age']]"
   ]
  },
  {
   "cell_type": "code",
   "execution_count": 40,
   "metadata": {},
   "outputs": [
    {
     "data": {
      "text/plain": [
       "42.0567217507816"
      ]
     },
     "execution_count": 40,
     "metadata": {},
     "output_type": "execute_result"
    }
   ],
   "source": [
    "# Average age of our client\n",
    "base['age'].mean()"
   ]
  },
  {
   "cell_type": "code",
   "execution_count": 41,
   "metadata": {},
   "outputs": [
    {
     "data": {
      "text/html": [
       "<div>\n",
       "<style scoped>\n",
       "    .dataframe tbody tr th:only-of-type {\n",
       "        vertical-align: middle;\n",
       "    }\n",
       "\n",
       "    .dataframe tbody tr th {\n",
       "        vertical-align: top;\n",
       "    }\n",
       "\n",
       "    .dataframe thead th {\n",
       "        text-align: right;\n",
       "    }\n",
       "</style>\n",
       "<table border=\"1\" class=\"dataframe\">\n",
       "  <thead>\n",
       "    <tr style=\"text-align: right;\">\n",
       "      <th></th>\n",
       "      <th>client_id</th>\n",
       "      <th>average_credit</th>\n",
       "    </tr>\n",
       "  </thead>\n",
       "  <tbody>\n",
       "    <tr>\n",
       "      <th>1305</th>\n",
       "      <td>2626</td>\n",
       "      <td>27118.74</td>\n",
       "    </tr>\n",
       "  </tbody>\n",
       "</table>\n",
       "</div>"
      ],
      "text/plain": [
       "      client_id  average_credit\n",
       "1305       2626        27118.74"
      ]
     },
     "execution_count": 41,
     "metadata": {},
     "output_type": "execute_result"
    }
   ],
   "source": [
    "# Client with the Highest average credit\n",
    "base[base['average_credit'] == base['average_credit'].max()][['client_id', 'average_credit']]"
   ]
  },
  {
   "cell_type": "code",
   "execution_count": 42,
   "metadata": {},
   "outputs": [
    {
     "data": {
      "text/html": [
       "<div>\n",
       "<style scoped>\n",
       "    .dataframe tbody tr th:only-of-type {\n",
       "        vertical-align: middle;\n",
       "    }\n",
       "\n",
       "    .dataframe tbody tr th {\n",
       "        vertical-align: top;\n",
       "    }\n",
       "\n",
       "    .dataframe thead th {\n",
       "        text-align: right;\n",
       "    }\n",
       "</style>\n",
       "<table border=\"1\" class=\"dataframe\">\n",
       "  <thead>\n",
       "    <tr style=\"text-align: right;\">\n",
       "      <th></th>\n",
       "      <th>client_id</th>\n",
       "      <th>average_withdrawal</th>\n",
       "    </tr>\n",
       "  </thead>\n",
       "  <tbody>\n",
       "    <tr>\n",
       "      <th>744</th>\n",
       "      <td>3498</td>\n",
       "      <td>19639.45</td>\n",
       "    </tr>\n",
       "  </tbody>\n",
       "</table>\n",
       "</div>"
      ],
      "text/plain": [
       "     client_id  average_withdrawal\n",
       "744       3498            19639.45"
      ]
     },
     "execution_count": 42,
     "metadata": {},
     "output_type": "execute_result"
    }
   ],
   "source": [
    "# Client with the Highest average Withdrawal\n",
    "base[base['average_withdrawal'] == base['average_withdrawal'].max()][['client_id', 'average_withdrawal']]"
   ]
  },
  {
   "cell_type": "code",
   "execution_count": 43,
   "metadata": {},
   "outputs": [
    {
     "data": {
      "text/html": [
       "<div>\n",
       "<style scoped>\n",
       "    .dataframe tbody tr th:only-of-type {\n",
       "        vertical-align: middle;\n",
       "    }\n",
       "\n",
       "    .dataframe tbody tr th {\n",
       "        vertical-align: top;\n",
       "    }\n",
       "\n",
       "    .dataframe thead th {\n",
       "        text-align: right;\n",
       "    }\n",
       "</style>\n",
       "<table border=\"1\" class=\"dataframe\">\n",
       "  <thead>\n",
       "    <tr style=\"text-align: right;\">\n",
       "      <th></th>\n",
       "      <th>client_id</th>\n",
       "      <th>frequency_withdrawal</th>\n",
       "    </tr>\n",
       "  </thead>\n",
       "  <tbody>\n",
       "    <tr>\n",
       "      <th>778</th>\n",
       "      <td>7195</td>\n",
       "      <td>101</td>\n",
       "    </tr>\n",
       "    <tr>\n",
       "      <th>1768</th>\n",
       "      <td>6922</td>\n",
       "      <td>101</td>\n",
       "    </tr>\n",
       "  </tbody>\n",
       "</table>\n",
       "</div>"
      ],
      "text/plain": [
       "      client_id  frequency_withdrawal\n",
       "778        7195                   101\n",
       "1768       6922                   101"
      ]
     },
     "execution_count": 43,
     "metadata": {},
     "output_type": "execute_result"
    }
   ],
   "source": [
    "# Client with the Highest Withdrawal Frequency\n",
    "base[base['frequency_withdrawal'] == base['frequency_withdrawal'].max()][['client_id', 'frequency_withdrawal']]"
   ]
  },
  {
   "cell_type": "code",
   "execution_count": 44,
   "metadata": {},
   "outputs": [
    {
     "data": {
      "text/html": [
       "<div>\n",
       "<style scoped>\n",
       "    .dataframe tbody tr th:only-of-type {\n",
       "        vertical-align: middle;\n",
       "    }\n",
       "\n",
       "    .dataframe tbody tr th {\n",
       "        vertical-align: top;\n",
       "    }\n",
       "\n",
       "    .dataframe thead th {\n",
       "        text-align: right;\n",
       "    }\n",
       "</style>\n",
       "<table border=\"1\" class=\"dataframe\">\n",
       "  <thead>\n",
       "    <tr style=\"text-align: right;\">\n",
       "      <th></th>\n",
       "      <th>client_id</th>\n",
       "      <th>frequency_credit</th>\n",
       "    </tr>\n",
       "  </thead>\n",
       "  <tbody>\n",
       "    <tr>\n",
       "      <th>71</th>\n",
       "      <td>11461</td>\n",
       "      <td>58</td>\n",
       "    </tr>\n",
       "    <tr>\n",
       "      <th>1748</th>\n",
       "      <td>9196</td>\n",
       "      <td>58</td>\n",
       "    </tr>\n",
       "  </tbody>\n",
       "</table>\n",
       "</div>"
      ],
      "text/plain": [
       "      client_id  frequency_credit\n",
       "71        11461                58\n",
       "1748       9196                58"
      ]
     },
     "execution_count": 44,
     "metadata": {},
     "output_type": "execute_result"
    }
   ],
   "source": [
    "# Client with the Highest credit Frequency\n",
    "base[base['frequency_credit'] == base['frequency_credit'].max()][['client_id', 'frequency_credit']]"
   ]
  },
  {
   "cell_type": "code",
   "execution_count": 45,
   "metadata": {},
   "outputs": [
    {
     "data": {
      "text/plain": [
       "client_district\n",
       "Benesov             19\n",
       "Beroun              24\n",
       "Blansko             22\n",
       "Breclav             32\n",
       "Brno - mesto        59\n",
       "                    ..\n",
       "Vsetin              23\n",
       "Vyskov              24\n",
       "Zdar nad Sazavou    25\n",
       "Zlin                53\n",
       "Znojmo              23\n",
       "Name: client_id, Length: 77, dtype: int64"
      ]
     },
     "execution_count": 45,
     "metadata": {},
     "output_type": "execute_result"
    }
   ],
   "source": [
    "#Clients per each district\n",
    "base.groupby('client_district')['client_id'].count()"
   ]
  },
  {
   "cell_type": "code",
   "execution_count": 46,
   "metadata": {},
   "outputs": [
    {
     "name": "stdout",
     "output_type": "stream",
     "text": [
      "client_id\n",
      "906    900.0\n",
      "Name: total_withdrawal, dtype: float64\n",
      "client_id\n",
      "8091    1020970.2\n",
      "Name: total_withdrawal, dtype: float64\n"
     ]
    }
   ],
   "source": [
    "# Most spending client and least spending client\n",
    "spending_acc = base.groupby('client_id')['total_withdrawal'].sum().sort_values()\n",
    "\n",
    "print(spending_acc.head(1))  # Least spending\n",
    "print(spending_acc.tail(1))  # Most spending"
   ]
  },
  {
   "cell_type": "code",
   "execution_count": 47,
   "metadata": {},
   "outputs": [
    {
     "data": {
      "image/png": "[encoded data removed]",
      "text/plain": [
       "<Figure size 360x360 with 1 Axes>"
      ]
     },
     "metadata": {
      "needs_background": "light"
     },
     "output_type": "display_data"
    }
   ],
   "source": [
    "# How many male & female clients within our data?\n",
    "\n",
    "fig, ax = plt.subplots(figsize = (5,5))\n",
    "ax = sns.countplot(x=\"gender\", data = base)\n",
    "plt.title('Number of Female & Male Clients within our Data', fontsize = 15)\n",
    "\n",
    "\n",
    "show_values_on_bars(ax)"
   ]
  },
  {
   "cell_type": "code",
   "execution_count": 48,
   "metadata": {},
   "outputs": [
    {
     "data": {
      "image/png": "[encoded data removed]",
      "text/plain": [
       "<Figure size 432x288 with 1 Axes>"
      ]
     },
     "metadata": {
      "needs_background": "light"
     },
     "output_type": "display_data"
    }
   ],
   "source": [
    "#Boxplot Age \n",
    "\n",
    "base.groupby(['client_id'])\n",
    "base\n",
    "\n",
    "ax = sns.boxplot(x=\"age\", data=base)"
   ]
  },
  {
   "cell_type": "code",
   "execution_count": 49,
   "metadata": {},
   "outputs": [
    {
     "data": {
      "image/png": "[encoded data removed]",
      "text/plain": [
       "<Figure size 432x288 with 1 Axes>"
      ]
     },
     "metadata": {
      "needs_background": "light"
     },
     "output_type": "display_data"
    }
   ],
   "source": [
    "# Client Age Distribution\n",
    "\n",
    "base.groupby(['client_id'])\n",
    "\n",
    "ax = sns.histplot(data = base, x=\"age_group\",  palette ='viridis')\n",
    "\n",
    "plt.title('Clients Age Distribution within our Data', fontsize = 15)\n",
    "\n",
    "show_values_on_bars(ax)"
   ]
  },
  {
   "cell_type": "code",
   "execution_count": 50,
   "metadata": {},
   "outputs": [
    {
     "data": {
      "image/png": "[encoded data removed]",
      "text/plain": [
       "<Figure size 576x576 with 1 Axes>"
      ]
     },
     "metadata": {
      "needs_background": "light"
     },
     "output_type": "display_data"
    }
   ],
   "source": [
    "# What is the age group distribution within our data?\n",
    "\n",
    "fig, ax = plt.subplots(figsize = (8,8))\n",
    "ax = sns.countplot(x=\"age_group\", hue = 'gender', data = base)\n",
    "plt.title('Clients Age Distribution within our Data', fontsize = 15)\n",
    "\n",
    "show_values_on_bars(ax)"
   ]
  },
  {
   "cell_type": "code",
   "execution_count": 51,
   "metadata": {},
   "outputs": [
    {
     "data": {
      "image/png": "[encoded data removed]",
      "text/plain": [
       "<Figure size 648x648 with 1 Axes>"
      ]
     },
     "metadata": {
      "needs_background": "light"
     },
     "output_type": "display_data"
    }
   ],
   "source": [
    "# Top 10 Highest-spending clients\n",
    "\n",
    "fig, ax = plt.subplots(figsize = (9,9))\n",
    "\n",
    "cls = base.sort_values('total_withdrawal', ascending = False)\n",
    "cls = cls.head(10)\n",
    "\n",
    "\n",
    "ax = sns.barplot(x=\"client_id\", y= \"total_withdrawal\", data = cls, palette =\"Spectral\", ci = None) \n",
    "\n",
    "plt.title('Top 10 Highest-spending clients', fontsize = 20)\n",
    "plt.xticks(rotation=45, ha='right')\n",
    "\n",
    "show_values_on_bars(ax)"
   ]
  },
  {
   "cell_type": "code",
   "execution_count": 52,
   "metadata": {},
   "outputs": [
    {
     "data": {
      "image/png": "[encoded data removed]",
      "text/plain": [
       "<Figure size 360x360 with 1 Axes>"
      ]
     },
     "metadata": {
      "needs_background": "light"
     },
     "output_type": "display_data"
    }
   ],
   "source": [
    "# Clients Who had loan in 1997\n",
    "\n",
    "fig, ax = plt.subplots(figsize = (5,5))\n",
    "ax = sns.countplot(x='had_granted_loan_in1997', data = base)\n",
    "plt.title('Number of Clients who had loan in 1997', fontsize = 15)\n",
    "\n",
    "show_values_on_bars(ax)"
   ]
  },
  {
   "cell_type": "code",
   "execution_count": 53,
   "metadata": {},
   "outputs": [
    {
     "data": {
      "image/png": "[encoded data removed]",
      "text/plain": [
       "<Figure size 360x360 with 1 Axes>"
      ]
     },
     "metadata": {
      "needs_background": "light"
     },
     "output_type": "display_data"
    }
   ],
   "source": [
    "# How many male & female clients within our data?\n",
    "\n",
    "fig, ax = plt.subplots(figsize = (5,5))\n",
    "ax = sns.countplot(x='had_creditcard_issued_in1997', data = base)\n",
    "plt.title('Number of Clients who had a credit card issued in 1997', fontsize = 15)\n",
    "\n",
    "show_values_on_bars(ax)"
   ]
  },
  {
   "cell_type": "code",
   "execution_count": 54,
   "metadata": {
    "scrolled": false
   },
   "outputs": [
    {
     "data": {
      "image/png": "[encoded data removed]",
      "text/plain": [
       "<Figure size 432x288 with 1 Axes>"
      ]
     },
     "metadata": {},
     "output_type": "display_data"
    },
    {
     "data": {
      "text/html": [
       "<div>\n",
       "<style scoped>\n",
       "    .dataframe tbody tr th:only-of-type {\n",
       "        vertical-align: middle;\n",
       "    }\n",
       "\n",
       "    .dataframe tbody tr th {\n",
       "        vertical-align: top;\n",
       "    }\n",
       "\n",
       "    .dataframe thead th {\n",
       "        text-align: right;\n",
       "    }\n",
       "</style>\n",
       "<table border=\"1\" class=\"dataframe\">\n",
       "  <thead>\n",
       "    <tr style=\"text-align: right;\">\n",
       "      <th></th>\n",
       "      <th>client_id</th>\n",
       "    </tr>\n",
       "    <tr>\n",
       "      <th>client_region</th>\n",
       "      <th></th>\n",
       "    </tr>\n",
       "  </thead>\n",
       "  <tbody>\n",
       "    <tr>\n",
       "      <th>Prague</th>\n",
       "      <td>272</td>\n",
       "    </tr>\n",
       "    <tr>\n",
       "      <th>central Bohemia</th>\n",
       "      <td>265</td>\n",
       "    </tr>\n",
       "    <tr>\n",
       "      <th>east Bohemia</th>\n",
       "      <td>277</td>\n",
       "    </tr>\n",
       "    <tr>\n",
       "      <th>north Bohemia</th>\n",
       "      <td>235</td>\n",
       "    </tr>\n",
       "    <tr>\n",
       "      <th>north Moravia</th>\n",
       "      <td>383</td>\n",
       "    </tr>\n",
       "    <tr>\n",
       "      <th>south Bohemia</th>\n",
       "      <td>190</td>\n",
       "    </tr>\n",
       "    <tr>\n",
       "      <th>south Moravia</th>\n",
       "      <td>401</td>\n",
       "    </tr>\n",
       "    <tr>\n",
       "      <th>west Bohemia</th>\n",
       "      <td>216</td>\n",
       "    </tr>\n",
       "  </tbody>\n",
       "</table>\n",
       "</div>"
      ],
      "text/plain": [
       "                 client_id\n",
       "client_region             \n",
       "Prague                 272\n",
       "central Bohemia        265\n",
       "east Bohemia           277\n",
       "north Bohemia          235\n",
       "north Moravia          383\n",
       "south Bohemia          190\n",
       "south Moravia          401\n",
       "west Bohemia           216"
      ]
     },
     "execution_count": 54,
     "metadata": {},
     "output_type": "execute_result"
    }
   ],
   "source": [
    "#Client per each Region\n",
    "clr=base.groupby('client_region')['client_id'].count()\n",
    "plt.pie(clr, labels=clr.index, autopct='%1.1f%%')\n",
    "plt.show()\n",
    "\n",
    "pd.DataFrame(clr)"
   ]
  },
  {
   "cell_type": "code",
   "execution_count": 55,
   "metadata": {},
   "outputs": [
    {
     "data": {
      "image/png": "[encoded data removed]",
      "text/plain": [
       "<Figure size 360x360 with 1 Axes>"
      ]
     },
     "metadata": {
      "needs_background": "light"
     },
     "output_type": "display_data"
    }
   ],
   "source": [
    "# Is there a relation between gender and being granted a loan?\n",
    "\n",
    "fig, ax = plt.subplots(figsize = (5,5))\n",
    "ax = sns.countplot(x=\"had_granted_loan_in1997\", hue = 'gender', data = base, palette = 'magma')\n",
    "plt.title('Relation between Gender and Being Granted a Loan', fontsize = 15)\n",
    "\n",
    "show_values_on_bars(ax)"
   ]
  },
  {
   "cell_type": "code",
   "execution_count": 56,
   "metadata": {},
   "outputs": [
    {
     "data": {
      "image/png": "[encoded data removed]",
      "text/plain": [
       "<Figure size 360x360 with 1 Axes>"
      ]
     },
     "metadata": {
      "needs_background": "light"
     },
     "output_type": "display_data"
    }
   ],
   "source": [
    "# Is there a relation between gender and being issued a credit card?\n",
    "\n",
    "fig, ax = plt.subplots(figsize = (5,5))\n",
    "ax = sns.countplot(x=\"had_creditcard_issued_in1997\", hue = 'gender', data = base, palette = 'magma')\n",
    "plt.title('Relation between Gender and Being issued a credit card', fontsize = 15)\n",
    "\n",
    "show_values_on_bars(ax)"
   ]
  },
  {
   "cell_type": "code",
   "execution_count": 57,
   "metadata": {},
   "outputs": [
    {
     "data": {
      "image/png": "[encoded data removed]",
      "text/plain": [
       "<Figure size 648x648 with 1 Axes>"
      ]
     },
     "metadata": {
      "needs_background": "light"
     },
     "output_type": "display_data"
    }
   ],
   "source": [
    "# Which Age group has the highest average withdrawal?\n",
    "\n",
    "fig, ax = plt.subplots(figsize = (9,9))\n",
    "ax = sns.barplot(x=\"age_group\", y= \"average_withdrawal\", hue = \"gender\", data = base, palette ='magma', ci = None)\n",
    "\n",
    "plt.title('Relation between Average Withdrawal in different age group', fontsize = 20)\n",
    "\n",
    "show_values_on_bars(ax)"
   ]
  },
  {
   "cell_type": "code",
   "execution_count": 58,
   "metadata": {},
   "outputs": [
    {
     "data": {
      "image/png": "[encoded data removed]",
      "text/plain": [
       "<Figure size 648x648 with 1 Axes>"
      ]
     },
     "metadata": {
      "needs_background": "light"
     },
     "output_type": "display_data"
    }
   ],
   "source": [
    "# Which Age group has the highest average credit?\n",
    "\n",
    "fig, ax = plt.subplots(figsize = (9,9))\n",
    "ax = sns.barplot(x=\"age_group\", y= \"average_credit\", hue = \"gender\", data = base, palette ='mako', ci = None)\n",
    "\n",
    "plt.title('Relation between Average credit in different age group', fontsize = 20)\n",
    "\n",
    "show_values_on_bars(ax)"
   ]
  },
  {
   "cell_type": "code",
   "execution_count": 85,
   "metadata": {},
   "outputs": [
    {
     "data": {
      "image/png": "[encoded data removed]",
      "text/plain": [
       "<Figure size 648x648 with 1 Axes>"
      ]
     },
     "metadata": {
      "needs_background": "light"
     },
     "output_type": "display_data"
    }
   ],
   "source": [
    "# District with the highest total withdrawal\n",
    "\n",
    "fig, ax = plt.subplots(figsize = (9,9))\n",
    "\n",
    "df = base.sort_values('total_withdrawal', ascending = False)\n",
    "df = df.head(10)\n",
    "\n",
    "\n",
    "ax = sns.barplot(x=\"client_district\", y= \"total_withdrawal\", data = df, palette ='viridis', ci = None)\n",
    "\n",
    "plt.title('Top District with the Highest Client Total Withdrawal', fontsize = 16)\n",
    "plt.xticks(rotation=45, ha='right')\n",
    "\n",
    "show_values_on_bars(ax)"
   ]
  },
  {
   "cell_type": "code",
   "execution_count": 79,
   "metadata": {},
   "outputs": [
    {
     "data": {
      "image/png": "[encoded data removed]",
      "text/plain": [
       "<Figure size 648x648 with 1 Axes>"
      ]
     },
     "metadata": {
      "needs_background": "light"
     },
     "output_type": "display_data"
    }
   ],
   "source": [
    "# Region with the highest total withdrawal\n",
    "\n",
    "fig, ax = plt.subplots(figsize = (9,9))\n",
    "\n",
    "df = base.sort_values('total_withdrawal', ascending = False)\n",
    "df = df.head(10)\n",
    "\n",
    "\n",
    "ax = sns.barplot(x=\"client_region\", y= \"total_withdrawal\", data = df, palette ='viridis', ci = None)\n",
    "\n",
    "plt.title('Total Client Withdrawal for each region', fontsize = 20)\n",
    "plt.xticks(rotation=45, ha='right')\n",
    "\n",
    "show_values_on_bars(ax)"
   ]
  },
  {
   "cell_type": "code",
   "execution_count": 61,
   "metadata": {},
   "outputs": [
    {
     "data": {
      "image/png": "[encoded data removed]",
      "text/plain": [
       "<Figure size 432x288 with 1 Axes>"
      ]
     },
     "metadata": {
      "needs_background": "light"
     },
     "output_type": "display_data"
    }
   ],
   "source": [
    "# Loan Status within clients who has a loan\n",
    "\n",
    "df = base[base.loan_status != 0]\n",
    "\n",
    "ax = sns.histplot(x=\"loan_status\", data = df, hue = \"loan_status\", palette ='magma')\n",
    "\n",
    "plt.title('Number of Clients grouped by loan status', fontsize = 20)\n",
    "\n",
    "show_values_on_bars(ax)"
   ]
  },
  {
   "cell_type": "code",
   "execution_count": 62,
   "metadata": {},
   "outputs": [
    {
     "data": {
      "image/png": "[encoded data removed]",
      "text/plain": [
       "<Figure size 648x648 with 1 Axes>"
      ]
     },
     "metadata": {
      "needs_background": "light"
     },
     "output_type": "display_data"
    }
   ],
   "source": [
    "# Loan Status within Age distribution\n",
    "\n",
    "df = base[base.loan_status != 0]\n",
    "\n",
    "fig, ax = plt.subplots(figsize = (9,9))\n",
    "\n",
    "ax = sns.countplot(x=\"age_group\",  data = df, hue = \"loan_status\", palette ='magma')\n",
    "\n",
    "plt.title('Loan Status within different group age', fontsize = 20)\n",
    "\n",
    "plt.show()\n",
    "#show_values_on_bars(ax)"
   ]
  },
  {
   "cell_type": "code",
   "execution_count": 63,
   "metadata": {},
   "outputs": [
    {
     "data": {
      "image/png": "[encoded data removed]",
      "text/plain": [
       "<Figure size 576x576 with 1 Axes>"
      ]
     },
     "metadata": {
      "needs_background": "light"
     },
     "output_type": "display_data"
    }
   ],
   "source": [
    "#Relationship between LOR nd being issued a Credit card\n",
    "fig, ax = plt.subplots(figsize = (8,8))\n",
    "ax = sns.countplot(x=\"lor\", hue = 'had_creditcard_issued_in1997', data = base, palette = \"YlOrBr\")\n",
    "ax.set_xlabel('Length of Relationship (years)')\n",
    "plt.title('Relation between LOR and Being issued a credit card', fontsize = 15)\n",
    "\n",
    "show_values_on_bars(ax)"
   ]
  },
  {
   "cell_type": "code",
   "execution_count": 64,
   "metadata": {},
   "outputs": [
    {
     "data": {
      "image/png": "[encoded data removed]",
      "text/plain": [
       "<Figure size 576x576 with 1 Axes>"
      ]
     },
     "metadata": {
      "needs_background": "light"
     },
     "output_type": "display_data"
    }
   ],
   "source": [
    "# LOR and loan\n",
    "\n",
    "fig, ax = plt.subplots(figsize = (8,8))\n",
    "ax = sns.countplot(x=\"had_granted_loan_in1997\", hue = 'lor', data = base, palette = 'viridis')\n",
    "ax.set_xlabel('Has been granted a loan in 1997')\n",
    "plt.title('Loan granted in 1997 & Length of relationship', fontsize = 15)\n",
    "\n",
    "#show_values_on_bars(ax)\n",
    "plt.show()"
   ]
  },
  {
   "cell_type": "code",
   "execution_count": 65,
   "metadata": {},
   "outputs": [
    {
     "data": {
      "image/png": "[encoded data removed]",
      "text/plain": [
       "<Figure size 576x432 with 1 Axes>"
      ]
     },
     "metadata": {
      "needs_background": "light"
     },
     "output_type": "display_data"
    }
   ],
   "source": [
    "# Age group vs Avg withdrawal\n",
    "\n",
    "base.groupby(['client_id'])\n",
    "base\n",
    "\n",
    "fig_dims = (8, 6)\n",
    "fig, ax = plt.subplots(figsize=fig_dims)\n",
    "sns.scatterplot(data=base, x=\"age\", y=\"average_withdrawal\",hue ='average_withdrawal',palette = 'viridis')\n",
    "\n",
    "plt.title('Clients Age Distribution VS Average Withdrawal', fontsize = 15)\n",
    "\n",
    "plt.show()"
   ]
  },
  {
   "cell_type": "code",
   "execution_count": 66,
   "metadata": {},
   "outputs": [
    {
     "data": {
      "image/png": "[encoded data removed]",
      "text/plain": [
       "<Figure size 576x576 with 1 Axes>"
      ]
     },
     "metadata": {
      "needs_background": "light"
     },
     "output_type": "display_data"
    }
   ],
   "source": [
    "# LOR within different age groups\n",
    "\n",
    "fig, ax = plt.subplots(figsize = (8,8))\n",
    "ax = sns.countplot(x=\"age_group\", hue = 'lor', data = base, palette = 'magma')\n",
    "ax.set_xlabel('Length of Relationship (years)')\n",
    "plt.title('Lenght of relationship & Age group', fontsize = 15)\n",
    "\n",
    "show_values_on_bars(ax)"
   ]
  },
  {
   "cell_type": "code",
   "execution_count": 67,
   "metadata": {},
   "outputs": [
    {
     "data": {
      "image/png": "[encoded data removed]",
      "text/plain": [
       "<Figure size 576x432 with 1 Axes>"
      ]
     },
     "metadata": {
      "needs_background": "light"
     },
     "output_type": "display_data"
    }
   ],
   "source": [
    "# Relationship between average withdrawal, average frequency and loan status\n",
    "\n",
    "df = base[base.loan_status != 0]\n",
    "fig_dims = (8, 6)\n",
    "fig, ax = plt.subplots(figsize=fig_dims)\n",
    "sns.scatterplot(data=df, x=\"frequency_withdrawal\", y=\"average_withdrawal\",hue ='loan_status',palette = 'magma')\n",
    "plt.title('Relationship between average withdrawal, average frequency and loan status', fontsize = 15)\n",
    "plt.show()"
   ]
  },
  {
   "cell_type": "code",
   "execution_count": 68,
   "metadata": {},
   "outputs": [
    {
     "data": {
      "image/png": "[encoded data removed]",
      "text/plain": [
       "<Figure size 360x360 with 1 Axes>"
      ]
     },
     "metadata": {
      "needs_background": "light"
     },
     "output_type": "display_data"
    }
   ],
   "source": [
    "# credit card types\n",
    "\n",
    "df = base.groupby(['client_id'])\n",
    "df = base[base.had_creditcard_issued_in1997 != 0]\n",
    "\n",
    "\n",
    "fig, ax = plt.subplots(figsize = (5,5))\n",
    "ax = sns.countplot(x=\"creditcard_type\", hue = 'creditcard_type', data = df, palette = 'magma')\n",
    "ax.set_xlabel('Credit card types')\n",
    "plt.title('Count of different credit card ', fontsize = 15)\n",
    "\n",
    "plt.show()"
   ]
  },
  {
   "cell_type": "code",
   "execution_count": 69,
   "metadata": {},
   "outputs": [
    {
     "data": {
      "image/png": "[encoded data removed]",
      "text/plain": [
       "<Figure size 720x576 with 1 Axes>"
      ]
     },
     "metadata": {
      "needs_background": "light"
     },
     "output_type": "display_data"
    }
   ],
   "source": [
    "#Credit card types and average withdrawal\n",
    "\n",
    "df = base.groupby(['client_id'])\n",
    "df = base[base.had_creditcard_issued_in1997 != 0]\n",
    "\n",
    "fig_dims = (10, 8)\n",
    "fig, ax = plt.subplots(figsize=fig_dims)\n",
    "sns.scatterplot(data=df, x=\"frequency_withdrawal\", y=\"average_withdrawal\",hue ='creditcard_type',palette = 'magma',size=\"average_withdrawal\")\n",
    "plt.title('Credit card type depending on average withdrawal amount and frequency', fontsize = 15)\n",
    "plt.show()\n"
   ]
  },
  {
   "cell_type": "code",
   "execution_count": 70,
   "metadata": {},
   "outputs": [
    {
     "data": {
      "image/png": "[encoded data removed]",
      "text/plain": [
       "<Figure size 648x648 with 1 Axes>"
      ]
     },
     "metadata": {
      "needs_background": "light"
     },
     "output_type": "display_data"
    }
   ],
   "source": [
    "# Credit card type within different age group\n",
    "\n",
    "df = base.groupby(['client_id'])\n",
    "df = base[base.had_creditcard_issued_in1997 != 0]\n",
    "\n",
    "fig, ax = plt.subplots(figsize = (9,9))\n",
    "\n",
    "ax = sns.countplot(x=\"age_group\",  data = df, hue = \"creditcard_type\", palette ='magma')\n",
    "\n",
    "plt.title('Credit card type within different age group', fontsize = 15)\n",
    "\n",
    "plt.show()"
   ]
  },
  {
   "cell_type": "code",
   "execution_count": 71,
   "metadata": {},
   "outputs": [
    {
     "data": {
      "image/png": "[encoded data removed]",
      "text/plain": [
       "<Figure size 648x648 with 1 Axes>"
      ]
     },
     "metadata": {
      "needs_background": "light"
     },
     "output_type": "display_data"
    }
   ],
   "source": [
    "# Gender and loan status\n",
    "\n",
    "df = base[base.loan_status != 0]\n",
    "\n",
    "fig, ax = plt.subplots(figsize = (9,9))\n",
    "\n",
    "ax = sns.countplot(x=\"loan_status\",  data = df, hue = \"gender\", palette ='Spectral')\n",
    "\n",
    "plt.title('Gender & Loan status relationship', fontsize = 15)\n",
    "\n",
    "plt.show()"
   ]
  },
  {
   "cell_type": "code",
   "execution_count": 72,
   "metadata": {},
   "outputs": [
    {
     "data": {
      "image/png": "[encoded data removed]",
      "text/plain": [
       "<Figure size 576x576 with 1 Axes>"
      ]
     },
     "metadata": {
      "needs_background": "light"
     },
     "output_type": "display_data"
    }
   ],
   "source": [
    "# LOR and credit card type\n",
    "\n",
    "df = base.groupby(['client_id'])\n",
    "df = base[base.had_creditcard_issued_in1997 != 0]\n",
    "\n",
    "fig, ax = plt.subplots(figsize = (8,8))\n",
    "ax = sns.countplot(x=\"lor\", hue = 'creditcard_type', data = df, palette = 'magma')\n",
    "ax.set_xlabel('Length of Relationship (years)')\n",
    "plt.title('Relation between LOR and credit card type', fontsize = 15)\n",
    "\n",
    "plt.show()"
   ]
  }
 ],
 "metadata": {
  "colab": {
   "collapsed_sections": [],
   "name": "PythonGP.ipynb",
   "provenance": []
  },
  "kernelspec": {
   "display_name": "Python 3",
   "language": "python",
   "name": "python3"
  },
  "language_info": {
   "codemirror_mode": {
    "name": "ipython",
    "version": 3
   },
   "file_extension": ".py",
   "mimetype": "text/x-python",
   "name": "python",
   "nbconvert_exporter": "python",
   "pygments_lexer": "ipython3",
   "version": "3.8.8"
  }
 },
 "nbformat": 4,
 "nbformat_minor": 1
}
